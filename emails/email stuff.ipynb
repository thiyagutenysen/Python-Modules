{
 "cells": [
  {
   "cell_type": "code",
   "execution_count": 1,
   "metadata": {},
   "outputs": [],
   "source": [
    "# Use GMAIL\n",
    "# https://www.youtube.com/watch?v=JRCJ6RtE3xU&list=PL-osiE80TeTt2d9bfVyTiXJA-UTHn6WwU&index=103"
   ]
  },
  {
   "cell_type": "code",
   "execution_count": 2,
   "metadata": {},
   "outputs": [],
   "source": [
    "# app apssword\n",
    "# name - python tutorial\n",
    "# password - sloszteaqkmgeycj"
   ]
  },
  {
   "cell_type": "code",
   "execution_count": 3,
   "metadata": {},
   "outputs": [],
   "source": [
    "# we will use smtp module"
   ]
  },
  {
   "cell_type": "code",
   "execution_count": 4,
   "metadata": {},
   "outputs": [],
   "source": [
    "import smtplib"
   ]
  },
  {
   "cell_type": "code",
   "execution_count": 7,
   "metadata": {},
   "outputs": [
    {
     "name": "stdout",
     "output_type": "stream",
     "text": [
      "CPU times: user 13.6 ms, sys: 171 µs, total: 13.7 ms\n",
      "Wall time: 3.12 s\n"
     ]
    }
   ],
   "source": [
    "%%time\n",
    "# code to send a simple text message\n",
    "with smtplib.SMTP('smtp.gmail.com', 587) as smtp: # we use context manager with to open the connection so when we come out of it it will automatically close, 2nd argumnet is port number and this is standard\n",
    "    smtp.ehlo() # identifies ourselves with the mail server\n",
    "    # encrypt our traffic\n",
    "    smtp.starttls()\n",
    "    smtp.ehlo()\n",
    "    \n",
    "    smtp.login('thiyagutenysen@gmail.com', 'sloszteaqkmgeycj')\n",
    "    \n",
    "    subject = 'corey shcaffer tutorial'\n",
    "    body = 'https://www.youtube.com/watch?v=JRCJ6RtE3xU&list=PL-osiE80TeTt2d9bfVyTiXJA-UTHn6WwU&index=103, this my text message'\n",
    "    \n",
    "    msg = f'Subject: {subject}\\n\\n{body}' # we are using f-string here, subject should be like header with the body 2 lines after the subject\n",
    "    \n",
    "    smtp.sendmail('thiyagutenysen@gmail.com', 'me17b179@smail.iitm.ac.in', msg) # 3 args, sender, reciever, message\n",
    "    "
   ]
  },
  {
   "cell_type": "code",
   "execution_count": 8,
   "metadata": {},
   "outputs": [
    {
     "name": "stdout",
     "output_type": "stream",
     "text": [
      "CPU times: user 1.54 ms, sys: 8.22 ms, total: 9.76 ms\n",
      "Wall time: 3 s\n"
     ]
    }
   ],
   "source": [
    "%%time\n",
    "# different method to send simple text message\n",
    "# less lines of code\n",
    "with smtplib.SMTP_SSL('smtp.gmail.com', 465) as smtp:\n",
    "    smtp.login('thiyagutenysen@gmail.com', 'sloszteaqkmgeycj')\n",
    "    \n",
    "    subject = 'corey shcaffer tutorial'\n",
    "    body = 'https://www.youtube.com/watch?v=JRCJ6RtE3xU&list=PL-osiE80TeTt2d9bfVyTiXJA-UTHn6WwU&index=103, this my text message'\n",
    "    \n",
    "    msg = f'Subject: {subject}\\n\\n{body}' \n",
    "    \n",
    "    smtp.sendmail('thiyagutenysen@gmail.com', 'me17b179@smail.iitm.ac.in', msg)"
   ]
  },
  {
   "cell_type": "code",
   "execution_count": 9,
   "metadata": {},
   "outputs": [],
   "source": [
    "# let's use a module to sort out the problem of wierd formatting of msg using f-string\n",
    "from email.message import EmailMessage"
   ]
  },
  {
   "cell_type": "code",
   "execution_count": 10,
   "metadata": {},
   "outputs": [],
   "source": [
    "# info part\n",
    "msg = EmailMessage()\n",
    "msg['From'] = 'thiyagutenysen@gmail.com'\n",
    "msg['To'] = 'me17b179@smail.iitm.ac.in'\n",
    "msg['Subject'] = 'corey shcaffer tutorial'\n",
    "msg.set_content(' hello folks 19/2/2021 ')"
   ]
  },
  {
   "cell_type": "code",
   "execution_count": 11,
   "metadata": {},
   "outputs": [
    {
     "name": "stdout",
     "output_type": "stream",
     "text": [
      "CPU times: user 2.12 ms, sys: 9.24 ms, total: 11.4 ms\n",
      "Wall time: 4.75 s\n"
     ]
    }
   ],
   "source": [
    "%%time\n",
    "# send mail part\n",
    "with smtplib.SMTP_SSL('smtp.gmail.com', 465) as smtp:\n",
    "    smtp.login('thiyagutenysen@gmail.com', 'sloszteaqkmgeycj')\n",
    "    smtp.send_message(msg)"
   ]
  },
  {
   "cell_type": "code",
   "execution_count": 33,
   "metadata": {},
   "outputs": [],
   "source": [
    "# Debug using terminal"
   ]
  },
  {
   "cell_type": "code",
   "execution_count": 34,
   "metadata": {},
   "outputs": [],
   "source": [
    "# step1: type this on terminal \"python3 -m smtpd -c DebuggingServer -n localhost:1025\"\n",
    "# step2: run the code given below"
   ]
  },
  {
   "cell_type": "code",
   "execution_count": 35,
   "metadata": {},
   "outputs": [
    {
     "name": "stdout",
     "output_type": "stream",
     "text": [
      "CPU times: user 1.75 ms, sys: 4.71 ms, total: 6.46 ms\n",
      "Wall time: 8.98 ms\n"
     ]
    }
   ],
   "source": [
    "%%time\n",
    "# debugging messages will be printed on terminal\n",
    "msg = EmailMessage()\n",
    "msg['From'] = 'thiyagutenysen@gmail.com'\n",
    "msg['To'] = 'me17b179@smail.iitm.ac.in'\n",
    "msg['Subject'] = 'corey shcaffer tutorial'\n",
    "msg.set_content(' hello folks 19/2/2021 ')\n",
    "# send mail part\n",
    "with smtplib.SMTP('localhost', 1076) as smtp: # the difference is only this line\n",
    "    #smtp.login('thiyagutenysen@gmail.com', 'sloszteaqkmgeycj')\n",
    "    smtp.send_message(msg)"
   ]
  },
  {
   "cell_type": "code",
   "execution_count": 12,
   "metadata": {},
   "outputs": [],
   "source": [
    "# let's talk about adding attachments"
   ]
  },
  {
   "cell_type": "code",
   "execution_count": 15,
   "metadata": {},
   "outputs": [],
   "source": [
    "# info part\n",
    "import imghdr # this module is used to determine image extensions and formats\n",
    "msg = EmailMessage()\n",
    "msg['From'] = 'thiyagutenysen@gmail.com'\n",
    "msg['To'] = 'me17b179@smail.iitm.ac.in'\n",
    "msg['Subject'] = 'corey shcaffer tutorial'\n",
    "msg.set_content(' Image Attached... ')\n",
    "image_path = '/home/chella/Downloads/laptop.jpg'\n",
    "with open(image_path, 'rb') as f:\n",
    "    image_name = f.name\n",
    "    image_type = imghdr.what(f.name)\n",
    "    image_data = f.read()\n",
    "msg.add_attachment(image_data, maintype='image', subtype=image_type, filename=image_name)"
   ]
  },
  {
   "cell_type": "code",
   "execution_count": 16,
   "metadata": {},
   "outputs": [
    {
     "name": "stdout",
     "output_type": "stream",
     "text": [
      "CPU times: user 235 ms, sys: 35.8 ms, total: 271 ms\n",
      "Wall time: 23.6 s\n"
     ]
    }
   ],
   "source": [
    "%%time\n",
    "# send mail part\n",
    "with smtplib.SMTP_SSL('smtp.gmail.com', 465) as smtp:\n",
    "    smtp.login('thiyagutenysen@gmail.com', 'sloszteaqkmgeycj')\n",
    "    smtp.send_message(msg)"
   ]
  },
  {
   "cell_type": "code",
   "execution_count": 17,
   "metadata": {},
   "outputs": [],
   "source": [
    "# add multiple images as attachments\n",
    "msg = EmailMessage()\n",
    "msg['From'] = 'thiyagutenysen@gmail.com'\n",
    "msg['To'] = 'me17b179@smail.iitm.ac.in'\n",
    "msg['Subject'] = 'corey shcaffer tutorial'\n",
    "msg.set_content(' Image Attached... ')\n",
    "image_files = ['/home/chella/Downloads/laptop.jpg', '/home/chella/Downloads/laptop2.jpg']\n",
    "for image_file in image_files:\n",
    "    with open(image_file, 'rb') as f:\n",
    "        image_name = f.name\n",
    "        image_type = imghdr.what(f.name)\n",
    "        image_data = f.read()\n",
    "    msg.add_attachment(image_data, maintype='image', subtype=image_type, filename=image_name)"
   ]
  },
  {
   "cell_type": "code",
   "execution_count": 18,
   "metadata": {},
   "outputs": [
    {
     "name": "stdout",
     "output_type": "stream",
     "text": [
      "CPU times: user 563 ms, sys: 34.1 ms, total: 597 ms\n",
      "Wall time: 42.3 s\n"
     ]
    }
   ],
   "source": [
    "%%time\n",
    "# send mail part\n",
    "with smtplib.SMTP_SSL('smtp.gmail.com', 465) as smtp:\n",
    "    smtp.login('thiyagutenysen@gmail.com', 'sloszteaqkmgeycj')\n",
    "    smtp.send_message(msg)"
   ]
  },
  {
   "cell_type": "code",
   "execution_count": 21,
   "metadata": {},
   "outputs": [
    {
     "name": "stdout",
     "output_type": "stream",
     "text": [
      "CPU times: user 288 ms, sys: 11.2 ms, total: 299 ms\n",
      "Wall time: 21.8 s\n"
     ]
    }
   ],
   "source": [
    "%%time\n",
    "# Generic code for attachments\n",
    "import os\n",
    "import smtplib\n",
    "from email.message import EmailMessage\n",
    "import imghdr\n",
    "msg = EmailMessage()\n",
    "msg['From'] = 'thiyagutenysen@gmail.com'\n",
    "msg['To'] = 'me17b179@smail.iitm.ac.in'\n",
    "msg['Subject'] = 'corey shcaffer tutorial'\n",
    "msg.set_content(' Files Attached... ')\n",
    "folder_path = '/home/chella/Downloads/'\n",
    "# for pdfs\n",
    "files = ['grades.pdf']\n",
    "for file in files:\n",
    "    with open(os.path.join(folder_path, file), 'rb') as f:\n",
    "        file_name = f.name\n",
    "        file_data = f.read()\n",
    "    msg.add_attachment(file_data, maintype='application', subtype='octet-stream', filename=file_name)\n",
    "# for images\n",
    "images = ['laptop.jpg']\n",
    "for image_file in images:\n",
    "    with open(os.path.join(folder_path, image_file), 'rb') as f:\n",
    "        image_name = f.name\n",
    "        image_type = imghdr.what(f.name)\n",
    "        image_data = f.read()\n",
    "    msg.add_attachment(image_data, maintype='image', subtype=image_type, filename=image_name)\n",
    "# send mail part\n",
    "with smtplib.SMTP_SSL('smtp.gmail.com', 465) as smtp:\n",
    "    smtp.login('thiyagutenysen@gmail.com', 'sloszteaqkmgeycj')\n",
    "    smtp.send_message(msg)"
   ]
  },
  {
   "cell_type": "code",
   "execution_count": 22,
   "metadata": {},
   "outputs": [
    {
     "name": "stdout",
     "output_type": "stream",
     "text": [
      "CPU times: user 324 ms, sys: 26.7 ms, total: 351 ms\n",
      "Wall time: 23.6 s\n"
     ]
    }
   ],
   "source": [
    "%%time\n",
    "# generic send email to multiple people with multiple attachments\n",
    "import os\n",
    "import smtplib\n",
    "from email.message import EmailMessage\n",
    "import imghdr\n",
    "\n",
    "# whom to send list\n",
    "to_list = ['me17b179@smail.iitm.ac.in', 'chellasenterprises123@gmail.com']\n",
    "\n",
    "msg = EmailMessage()\n",
    "msg['From'] = 'thiyagutenysen@gmail.com'\n",
    "msg['To'] = to_list\n",
    "msg['Subject'] = 'corey shcaffer tutorial'\n",
    "msg.set_content(' Files Attached... ')\n",
    "folder_path = '/home/chella/Downloads/'\n",
    "# for pdfs\n",
    "files = ['grades.pdf']\n",
    "for file in files:\n",
    "    with open(os.path.join(folder_path, file), 'rb') as f:\n",
    "        file_name = f.name\n",
    "        file_data = f.read()\n",
    "    msg.add_attachment(file_data, maintype='application', subtype='octet-stream', filename=file_name)\n",
    "# for images\n",
    "images = ['laptop.jpg']\n",
    "for image_file in images:\n",
    "    with open(os.path.join(folder_path, image_file), 'rb') as f:\n",
    "        image_name = f.name\n",
    "        image_type = imghdr.what(f.name)\n",
    "        image_data = f.read()\n",
    "    msg.add_attachment(image_data, maintype='image', subtype=image_type, filename=image_name)\n",
    "# send mail part\n",
    "with smtplib.SMTP_SSL('smtp.gmail.com', 465) as smtp:\n",
    "    smtp.login('thiyagutenysen@gmail.com', 'sloszteaqkmgeycj')\n",
    "    smtp.send_message(msg)"
   ]
  },
  {
   "cell_type": "code",
   "execution_count": 24,
   "metadata": {},
   "outputs": [
    {
     "name": "stdout",
     "output_type": "stream",
     "text": [
      "CPU times: user 15.1 ms, sys: 0 ns, total: 15.1 ms\n",
      "Wall time: 4.84 s\n"
     ]
    }
   ],
   "source": [
    "%%time\n",
    "# How to send html\n",
    "import os\n",
    "import smtplib\n",
    "from email.message import EmailMessage\n",
    "import imghdr\n",
    "\n",
    "# whom to send list\n",
    "to_list = ['me17b179@smail.iitm.ac.in']\n",
    "\n",
    "msg = EmailMessage()\n",
    "msg['From'] = 'thiyagutenysen@gmail.com'\n",
    "msg['To'] = to_list\n",
    "msg['Subject'] = 'corey shcaffer tutorial'\n",
    "msg.set_content(' This is plain text ')\n",
    "\n",
    "# html stuff\n",
    "msg.add_alternative('''\\\n",
    "<!DOCTYPE html>\n",
    "<html>\n",
    "    <body>\n",
    "        <h1 style=\"color:SlateGray;\">This is an HTML Email!</h1>\n",
    "    </body>\n",
    "</html>\n",
    "''', subtype='html')\n",
    "\n",
    "# send mail part\n",
    "with smtplib.SMTP_SSL('smtp.gmail.com', 465) as smtp:\n",
    "    smtp.login('thiyagutenysen@gmail.com', 'sloszteaqkmgeycj')\n",
    "    smtp.send_message(msg)\n",
    "    \n",
    "# here normal plain text is ignored, only html is sent"
   ]
  },
  {
   "cell_type": "code",
   "execution_count": null,
   "metadata": {},
   "outputs": [],
   "source": []
  }
 ],
 "metadata": {
  "kernelspec": {
   "display_name": "Python 3",
   "language": "python",
   "name": "python3"
  },
  "language_info": {
   "codemirror_mode": {
    "name": "ipython",
    "version": 3
   },
   "file_extension": ".py",
   "mimetype": "text/x-python",
   "name": "python",
   "nbconvert_exporter": "python",
   "pygments_lexer": "ipython3",
   "version": "3.7.7"
  }
 },
 "nbformat": 4,
 "nbformat_minor": 4
}
