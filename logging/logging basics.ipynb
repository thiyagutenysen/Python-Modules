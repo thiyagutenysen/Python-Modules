{
 "cells": [
  {
   "cell_type": "code",
   "execution_count": 1,
   "metadata": {},
   "outputs": [],
   "source": [
    "# normally print statements help but when our application grows we must move to logging"
   ]
  },
  {
   "cell_type": "code",
   "execution_count": 2,
   "metadata": {},
   "outputs": [],
   "source": [
    "# helper functions"
   ]
  },
  {
   "cell_type": "code",
   "execution_count": 3,
   "metadata": {},
   "outputs": [],
   "source": [
    "def addition(a, b):\n",
    "    return a+b"
   ]
  },
  {
   "cell_type": "code",
   "execution_count": 4,
   "metadata": {},
   "outputs": [],
   "source": [
    "def multiplication(a, b):\n",
    "    return a*b"
   ]
  },
  {
   "cell_type": "code",
   "execution_count": 5,
   "metadata": {},
   "outputs": [],
   "source": [
    "def division(a, b):\n",
    "    return a/b"
   ]
  },
  {
   "cell_type": "code",
   "execution_count": 6,
   "metadata": {},
   "outputs": [],
   "source": [
    "def subtraction(a, b):\n",
    "    return a-b"
   ]
  },
  {
   "cell_type": "code",
   "execution_count": 7,
   "metadata": {},
   "outputs": [],
   "source": [
    "a = 10\n",
    "b = 5"
   ]
  },
  {
   "cell_type": "code",
   "execution_count": 8,
   "metadata": {},
   "outputs": [
    {
     "name": "stdout",
     "output_type": "stream",
     "text": [
      "addition solution =  15\n",
      "subtraction solution =  5\n",
      "division solution =  2.0\n",
      "multiplication solution =  50\n"
     ]
    }
   ],
   "source": [
    "# using normal print statements\n",
    "add = addition(a, b)\n",
    "print('addition solution = ', add)\n",
    "sub = subtraction(a, b)\n",
    "print('subtraction solution = ', sub)\n",
    "div = division(a, b)\n",
    "print('division solution = ', div)\n",
    "mul = multiplication(a, b)\n",
    "print('multiplication solution = ', mul)"
   ]
  },
  {
   "cell_type": "code",
   "execution_count": 9,
   "metadata": {},
   "outputs": [],
   "source": [
    "# using logging\n",
    "import logging"
   ]
  },
  {
   "cell_type": "code",
   "execution_count": 10,
   "metadata": {},
   "outputs": [],
   "source": [
    "# log levels helps us to categorize\n",
    "# DEBUG: Detailed information, typically of interest only when diagnosing problems.\n",
    "# INFO: Confirmation that things are working as expected.\n",
    "# WARNING: An indication that something unexpected happened, or indicative of some problem in the near future (e.g. ‘disk space low’). The software is still working as expected.\n",
    "# ERROR: Due to a more serious problem, the software has not been able to perform some function.\n",
    "# CRITICAL: A serious error, indicating that the program itself may be unable to continue running."
   ]
  },
  {
   "cell_type": "code",
   "execution_count": 11,
   "metadata": {},
   "outputs": [],
   "source": [
    "# default level for logging is set to warning\n",
    "# if some mode is set then it's above modes are ignored\n",
    "# if warning mode is set: warning, error, critical are logged. debug and info are ignored and not logged"
   ]
  },
  {
   "cell_type": "code",
   "execution_count": null,
   "metadata": {},
   "outputs": [],
   "source": [
    "add = addition(a, b)\n",
    "logging.debug('addition solution = ', add)\n",
    "sub = subtraction(a, b)\n",
    "logging.debug('subtraction solution = ', sub)\n",
    "div = division(a, b)\n",
    "logging.debug('division solution = ', div)\n",
    "mul = multiplication(a, b)\n",
    "logging.debug('multiplication solution = ', mul)\n",
    "# nothing is printed out because the default level is warning but we are trying to print debug statements, so no output "
   ]
  },
  {
   "cell_type": "code",
   "execution_count": 15,
   "metadata": {},
   "outputs": [
    {
     "name": "stderr",
     "output_type": "stream",
     "text": [
      "WARNING:root:addition solution = 15\n",
      "WARNING:root:subtraction solution = 5\n",
      "WARNING:root:division solution = 2.0\n",
      "WARNING:root:multiplication solution = 50\n"
     ]
    }
   ],
   "source": [
    "# log statements will be printed out in console\n",
    "add = addition(a, b)\n",
    "logging.warning('addition solution = '+ str(add))\n",
    "sub = subtraction(a, b)\n",
    "logging.warning('subtraction solution = '+str(sub))\n",
    "div = division(a, b)\n",
    "logging.warning('division solution = '+ str(div))\n",
    "mul = multiplication(a, b)\n",
    "logging.warning('multiplication solution = '+ str(mul))"
   ]
  },
  {
   "cell_type": "code",
   "execution_count": 21,
   "metadata": {},
   "outputs": [],
   "source": [
    "# how to change logging levels\n",
    "logger = logging.getLogger()\n",
    "logger.setLevel(logging.DEBUG)"
   ]
  },
  {
   "cell_type": "code",
   "execution_count": 22,
   "metadata": {},
   "outputs": [
    {
     "name": "stderr",
     "output_type": "stream",
     "text": [
      "DEBUG:root:addition solution = 15\n",
      "DEBUG:root:subtraction solution = 5\n",
      "DEBUG:root:division solution = 2.0\n",
      "DEBUG:root:multiplication solution = 50\n"
     ]
    }
   ],
   "source": [
    "# now debug logs will be printed out\n",
    "add = addition(a, b)\n",
    "logging.debug('addition solution = '+ str(add))\n",
    "sub = subtraction(a, b)\n",
    "logging.debug('subtraction solution = '+str(sub))\n",
    "div = division(a, b)\n",
    "logging.debug('division solution = '+ str(div))\n",
    "mul = multiplication(a, b)\n",
    "logging.debug('multiplication solution = '+ str(mul))"
   ]
  },
  {
   "cell_type": "code",
   "execution_count": 23,
   "metadata": {},
   "outputs": [],
   "source": [
    "# instead of console let's spit logs into a file\n",
    "# This is a great way"
   ]
  },
  {
   "cell_type": "code",
   "execution_count": 29,
   "metadata": {},
   "outputs": [],
   "source": [
    "from importlib import reload\n",
    "import logging\n",
    "reload(logging)\n",
    "logging.basicConfig(filename='test.log', level=logging.DEBUG)"
   ]
  },
  {
   "cell_type": "code",
   "execution_count": 30,
   "metadata": {},
   "outputs": [],
   "source": [
    "add = addition(a, b)\n",
    "logging.debug('addition solution = '+ str(add))\n",
    "sub = subtraction(a, b)\n",
    "logging.debug('subtraction solution = '+str(sub))\n",
    "div = division(a, b)\n",
    "logging.debug('division solution = '+ str(div))\n",
    "mul = multiplication(a, b)\n",
    "logging.debug('multiplication solution = '+ str(mul))\n",
    "# no output in console. Everything is sent to log file"
   ]
  },
  {
   "cell_type": "code",
   "execution_count": 31,
   "metadata": {},
   "outputs": [],
   "source": [
    "a = 10\n",
    "b = 5\n",
    "add = addition(a, b)\n",
    "logging.debug('addition solution = '+ str(add))\n",
    "sub = subtraction(a, b)\n",
    "logging.debug('subtraction solution = '+str(sub))\n",
    "div = division(a, b)\n",
    "logging.debug('division solution = '+ str(div))\n",
    "mul = multiplication(a, b)\n",
    "logging.debug('multiplication solution = '+ str(mul))\n",
    "# previous outputs ar still intact and not erased\n",
    "# this cell logs are appended to the file"
   ]
  },
  {
   "cell_type": "code",
   "execution_count": 32,
   "metadata": {},
   "outputs": [],
   "source": [
    "# logging formats\n",
    "# https://docs.python.org/3/library/logging.html#logrecord-attributes"
   ]
  },
  {
   "cell_type": "code",
   "execution_count": 33,
   "metadata": {},
   "outputs": [],
   "source": [
    "from importlib import reload\n",
    "import logging\n",
    "reload(logging)\n",
    "logging.basicConfig(filename='test.log', level=logging.DEBUG,\n",
    "                   format = '%(asctime)s:%(levelname)s:%(message)s'\n",
    "                   )"
   ]
  },
  {
   "cell_type": "code",
   "execution_count": 37,
   "metadata": {},
   "outputs": [],
   "source": [
    "import time\n",
    "add = addition(a, b)\n",
    "logging.debug('addition solution = '+ str(add))\n",
    "sub = subtraction(a, b)\n",
    "logging.debug('subtraction solution = '+str(sub))\n",
    "div = division(a, b)\n",
    "time.sleep(10)\n",
    "logging.debug('division solution = '+ str(div))\n",
    "mul = multiplication(a, b)\n",
    "logging.debug('multiplication solution = '+ str(mul))"
   ]
  },
  {
   "cell_type": "code",
   "execution_count": null,
   "metadata": {},
   "outputs": [],
   "source": []
  }
 ],
 "metadata": {
  "kernelspec": {
   "display_name": "Python 3",
   "language": "python",
   "name": "python3"
  },
  "language_info": {
   "codemirror_mode": {
    "name": "ipython",
    "version": 3
   },
   "file_extension": ".py",
   "mimetype": "text/x-python",
   "name": "python",
   "nbconvert_exporter": "python",
   "pygments_lexer": "ipython3",
   "version": "3.7.7"
  }
 },
 "nbformat": 4,
 "nbformat_minor": 4
}
