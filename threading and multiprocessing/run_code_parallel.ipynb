{
 "cells": [
  {
   "cell_type": "code",
   "execution_count": 1,
   "metadata": {},
   "outputs": [],
   "source": [
    "# look at threding notebook before coming here, it has more explanations\n",
    "# we want multiprocessing when we wanna significantly speed up the program\n",
    "# this seep up happens in parallel"
   ]
  },
  {
   "cell_type": "code",
   "execution_count": 2,
   "metadata": {},
   "outputs": [
    {
     "name": "stdout",
     "output_type": "stream",
     "text": [
      "Sleeping for 1seconds...\n",
      "Done sleeping for 1seconds\n",
      "Sleeping for 1seconds...\n",
      "Done sleeping for 1seconds\n",
      "Finished in 2.0 seconds\n"
     ]
    }
   ],
   "source": [
    "# simple script\n",
    "import time\n",
    "\n",
    "start = time.perf_counter()\n",
    "\n",
    "def do_something(sleep_time):\n",
    "    print('Sleeping for '+str(sleep_time)+'seconds...')\n",
    "    time.sleep(sleep_time)\n",
    "    print('Done sleeping for '+str(sleep_time)+'seconds')\n",
    "    \n",
    "do_something(1)\n",
    "do_something(1)\n",
    "\n",
    "stop = time.perf_counter()\n",
    "print('Finished in', round(stop-start, 2), 'seconds')"
   ]
  },
  {
   "cell_type": "code",
   "execution_count": 3,
   "metadata": {},
   "outputs": [],
   "source": [
    "# Flow - function-call -> wait till execution completion -> function-call -> wait till execution completion -> Done\n",
    "# The above flow is synchronous one\n",
    "# Multi-processing is good with both I/O bound task and CPU bound task\n",
    "# Run things in parallel\n",
    "# Flow -   function-call -> wait till execution completion\n",
    "#          function-call -> wait till execution completion\n",
    "#                                                         |\n",
    "#                                                         v\n",
    "#                                                        Done"
   ]
  },
  {
   "cell_type": "code",
   "execution_count": 4,
   "metadata": {},
   "outputs": [],
   "source": [
    "import multiprocessing"
   ]
  },
  {
   "cell_type": "code",
   "execution_count": 5,
   "metadata": {},
   "outputs": [
    {
     "name": "stdout",
     "output_type": "stream",
     "text": [
      "Sleeping for 1seconds...Finished in 0.01 seconds\n",
      "\n",
      "Sleeping for 1seconds...\n",
      "Done sleeping for 1secondsDone sleeping for 1seconds\n",
      "\n"
     ]
    }
   ],
   "source": [
    "start = time.perf_counter()\n",
    "\n",
    "def do_something(sleep_time):\n",
    "    print('Sleeping for '+str(sleep_time)+'seconds...')\n",
    "    time.sleep(sleep_time)\n",
    "    print('Done sleeping for '+str(sleep_time)+'seconds')\n",
    "\n",
    "# initialize process objects\n",
    "process1 = multiprocessing.Process(target=do_something, args=[1]) # we need to set arguments as a list and provide them to args attribute\n",
    "process2 = multiprocessing.Process(target=do_something, args=[1])\n",
    "\n",
    "# run the function\n",
    "process1.start() # this line is asynchronous\n",
    "process2.start() # this line is asynchronous\n",
    "# the above lines kick off our processess and moves on to next lines of code before our process gets finished\n",
    "\n",
    "stop = time.perf_counter()\n",
    "print('Finished in', round(stop-start, 2), 'seconds')"
   ]
  },
  {
   "cell_type": "code",
   "execution_count": 6,
   "metadata": {},
   "outputs": [
    {
     "name": "stdout",
     "output_type": "stream",
     "text": [
      "Sleeping for 1seconds...Sleeping for 1seconds...\n",
      "\n",
      "Done sleeping for 1secondsDone sleeping for 1seconds\n",
      "\n",
      "Finished in 1.03 seconds\n"
     ]
    }
   ],
   "source": [
    "# what if we wanted to move to next lines until all the processess gets finished - we use join\n",
    "start = time.perf_counter()\n",
    "\n",
    "def do_something(sleep_time):\n",
    "    print('Sleeping for '+str(sleep_time)+'seconds...')\n",
    "    time.sleep(sleep_time)\n",
    "    print('Done sleeping for '+str(sleep_time)+'seconds')\n",
    "\n",
    "# initialize process objects\n",
    "process1 = multiprocessing.Process(target=do_something, args=[1])\n",
    "process2 = multiprocessing.Process(target=do_something, args=[1])\n",
    "\n",
    "# run the function\n",
    "process1.start() # this line is asynchronous\n",
    "process2.start() # this line is asynchronous\n",
    "# now both process started \n",
    "\n",
    "# we need to specify that we can only move on to next lines only when the processes are finished executing\n",
    "process1.join()\n",
    "process2.join()\n",
    "\n",
    "stop = time.perf_counter()\n",
    "print('Finished in', round(stop-start, 2), 'seconds')"
   ]
  },
  {
   "cell_type": "code",
   "execution_count": 7,
   "metadata": {},
   "outputs": [
    {
     "name": "stdout",
     "output_type": "stream",
     "text": [
      "Sleeping for 1seconds...\n",
      "Sleeping for 1seconds...\n",
      "Sleeping for 1seconds...Sleeping for 1seconds...\n",
      "Sleeping for 1seconds...Sleeping for 1seconds...Sleeping for 1seconds...\n",
      "Sleeping for 1seconds...\n",
      "\n",
      "\n",
      "\n",
      "Sleeping for 1seconds...Sleeping for 1seconds...\n",
      "\n",
      "Done sleeping for 1seconds\n",
      "Done sleeping for 1seconds\n",
      "Done sleeping for 1seconds\n",
      "Done sleeping for 1secondsDone sleeping for 1secondsDone sleeping for 1seconds\n",
      "Done sleeping for 1seconds\n",
      "Done sleeping for 1seconds\n",
      "\n",
      "\n",
      "Done sleeping for 1secondsDone sleeping for 1seconds\n",
      "\n",
      "Finished in 1.12 seconds\n"
     ]
    }
   ],
   "source": [
    "# run many processess parallelly\n",
    "start = time.perf_counter()\n",
    "\n",
    "def do_something(sleep_time):\n",
    "    print('Sleeping for '+str(sleep_time)+'seconds...')\n",
    "    time.sleep(sleep_time)\n",
    "    print('Done sleeping for '+str(sleep_time)+'seconds')\n",
    "    \n",
    "processes = []\n",
    "for _ in range(10):\n",
    "    process = multiprocessing.Process(target=do_something, args=[1])\n",
    "    process.start()\n",
    "    processes.append(process)\n",
    "for i in range(10):\n",
    "    processes[i].join()\n",
    "    \n",
    "stop = time.perf_counter()\n",
    "print('Finished in', round(stop-start, 2), 'seconds')"
   ]
  },
  {
   "cell_type": "code",
   "execution_count": 8,
   "metadata": {},
   "outputs": [],
   "source": [
    "# New and effecient way of using multi processes\n",
    "import concurrent.futures"
   ]
  },
  {
   "cell_type": "code",
   "execution_count": 9,
   "metadata": {},
   "outputs": [
    {
     "name": "stdout",
     "output_type": "stream",
     "text": [
      "sleeping for 1 second...\n",
      "done sleeping...\n",
      "Finished in 1.05 seconds\n"
     ]
    }
   ],
   "source": [
    "# simple single process script\n",
    "start = time.perf_counter()\n",
    "\n",
    "def do_something(sleep_time):\n",
    "    print('sleeping for', sleep_time, 'second...')\n",
    "    time.sleep(sleep_time)\n",
    "    return 'done sleeping...'\n",
    "    \n",
    "# we will use context manager to be safe\n",
    "with concurrent.futures.ProcessPoolExecutor() as executor:\n",
    "    # if we wanna execute the function one at a time we ought to use submit method\n",
    "    p1 = executor.submit(do_something, 1) # 2 args, function name, arguments. It returns a futures object\n",
    "    # the future object basically encapsulates the execution of our function, it allows us to check in on in after it's been scheduled\n",
    "    # we can check whether it' running or done and also check the result(return value)\n",
    "    print(p1.result()) # it will actually wait around until our function completes\n",
    "    \n",
    "stop = time.perf_counter()\n",
    "print('Finished in', round(stop-start, 2), 'seconds')"
   ]
  },
  {
   "cell_type": "code",
   "execution_count": 15,
   "metadata": {},
   "outputs": [
    {
     "name": "stdout",
     "output_type": "stream",
     "text": [
      "sleeping forsleeping forsleeping for sleeping for1    1second...1 1 \n",
      "second... \n",
      "second...\n",
      "second...\n",
      "sleeping for sleeping for1sleeping for  1 1second...  \n",
      "second...second...sleeping for\n",
      " \n",
      "1 second...\n",
      "done sleeping...\n",
      "done sleeping...\n",
      "done sleeping...\n",
      "done sleeping...\n",
      "sleeping for 1 second...\n",
      "sleeping for 1 second...\n",
      "done sleeping...\n",
      "done sleeping...\n",
      "done sleeping...\n",
      "done sleeping...\n",
      "done sleeping...\n",
      "done sleeping...\n",
      "Finished in 3.16 seconds\n"
     ]
    }
   ],
   "source": [
    "# run the script 10 times - part 1\n",
    "start = time.perf_counter()\n",
    "\n",
    "def do_something(sleep_time):\n",
    "    print('sleeping for', sleep_time, 'second...')\n",
    "    time.sleep(sleep_time)\n",
    "    return 'done sleeping...'\n",
    "\n",
    "with concurrent.futures.ProcessPoolExecutor() as executor:\n",
    "    futures = []\n",
    "    for _ in range(10):\n",
    "        p = executor.submit(do_something, 1)\n",
    "        futures.append(p)\n",
    "    for p in concurrent.futures.as_completed(futures):\n",
    "        print(p.result())\n",
    "        \n",
    "stop = time.perf_counter()\n",
    "print('Finished in', round(stop-start, 2), 'seconds')\n",
    "# eventhough this code took longertime than using multiprocessing library, we can trust it"
   ]
  },
  {
   "cell_type": "code",
   "execution_count": 19,
   "metadata": {},
   "outputs": [
    {
     "name": "stdout",
     "output_type": "stream",
     "text": [
      "sleeping for 1second...sleeping for 3second...sleeping for 4second...\n",
      "sleeping for 5second...\n",
      "\n",
      "\n",
      "sleeping for 4second...\n",
      "done sleeping 1seconds\n",
      "done sleeping 3seconds\n",
      "done sleeping 4seconds\n",
      "done sleeping 5seconds\n",
      "done sleeping 4seconds\n",
      "Finished in 5.05 seconds\n"
     ]
    }
   ],
   "source": [
    "# run the script 10 times - part 2\n",
    "\n",
    "import random\n",
    "start = time.perf_counter()\n",
    "\n",
    "def do_something(sleep_time):\n",
    "    print('sleeping for '+str(sleep_time)+'second...')\n",
    "    time.sleep(sleep_time)\n",
    "    return 'done sleeping '+str(sleep_time)+'seconds'\n",
    "\n",
    "with concurrent.futures.ProcessPoolExecutor() as executor:\n",
    "    # we can assume that only inside this with block asynchronous shit takes place, otherwise no other place\n",
    "    # when 'with' shit is fully completed even though stuff inside are asynchronous, then only we move on to next slide\n",
    "    futures = []\n",
    "    for _ in range(5):\n",
    "        p = executor.submit(do_something, random.randint(1,5))\n",
    "        futures.append(p)\n",
    "    for p in concurrent.futures.as_completed(futures):\n",
    "        print(p.result())\n",
    "        \n",
    "stop = time.perf_counter()\n",
    "print('Finished in', round(stop-start, 2), 'seconds')"
   ]
  },
  {
   "cell_type": "code",
   "execution_count": 1,
   "metadata": {},
   "outputs": [],
   "source": [
    "# Mini project"
   ]
  },
  {
   "cell_type": "code",
   "execution_count": 2,
   "metadata": {},
   "outputs": [],
   "source": [
    "# data stuff\n",
    "import time\n",
    "import concurrent.futures\n",
    "from PIL import Image, ImageFilter\n",
    "\n",
    "img_names = [\n",
    "    'photo-1516117172878-fd2c41f4a759.jpg',\n",
    "    'photo-1532009324734-20a7a5813719.jpg',\n",
    "    'photo-1524429656589-6633a470097c.jpg',\n",
    "    'photo-1530224264768-7ff8c1789d79.jpg',\n",
    "    'photo-1564135624576-c5c88640f235.jpg',\n",
    "    'photo-1541698444083-023c97d3f4b6.jpg',\n",
    "    'photo-1522364723953-452d3431c267.jpg',\n",
    "    'photo-1513938709626-033611b8cc03.jpg',\n",
    "    'photo-1507143550189-fed454f93097.jpg',\n",
    "    'photo-1493976040374-85c8e12f0c0e.jpg',\n",
    "    'photo-1504198453319-5ce911bafcde.jpg',\n",
    "    'photo-1530122037265-a5f1f91d3b99.jpg',\n",
    "    'photo-1516972810927-80185027ca84.jpg',\n",
    "    'photo-1550439062-609e1531270e.jpg',\n",
    "    'photo-1549692520-acc6669e2f0c.jpg'\n",
    "]"
   ]
  },
  {
   "cell_type": "code",
   "execution_count": 4,
   "metadata": {},
   "outputs": [
    {
     "name": "stdout",
     "output_type": "stream",
     "text": [
      "photo-1516117172878-fd2c41f4a759.jpg was processed...\n",
      "photo-1532009324734-20a7a5813719.jpg was processed...\n",
      "photo-1524429656589-6633a470097c.jpg was processed...\n",
      "photo-1530224264768-7ff8c1789d79.jpg was processed...\n",
      "photo-1564135624576-c5c88640f235.jpg was processed...\n",
      "photo-1541698444083-023c97d3f4b6.jpg was processed...\n",
      "photo-1522364723953-452d3431c267.jpg was processed...\n",
      "photo-1513938709626-033611b8cc03.jpg was processed...\n",
      "photo-1507143550189-fed454f93097.jpg was processed...\n",
      "photo-1493976040374-85c8e12f0c0e.jpg was processed...\n",
      "photo-1504198453319-5ce911bafcde.jpg was processed...\n",
      "photo-1530122037265-a5f1f91d3b99.jpg was processed...\n",
      "photo-1516972810927-80185027ca84.jpg was processed...\n",
      "photo-1550439062-609e1531270e.jpg was processed...\n",
      "photo-1549692520-acc6669e2f0c.jpg was processed...\n",
      "Finished in 82.92 seconds\n"
     ]
    }
   ],
   "source": [
    "# usual synchronous coding\n",
    "start = time.perf_counter()\n",
    "\n",
    "size = (1200, 1200)\n",
    "\n",
    "for img_name in img_names:\n",
    "    img = Image.open(img_name)\n",
    "\n",
    "    img = img.filter(ImageFilter.GaussianBlur(15))\n",
    "    img = img.filter(ImageFilter.GaussianBlur(10))\n",
    "    img = img.filter(ImageFilter.GaussianBlur(5))\n",
    "    img = img.filter(ImageFilter.GaussianBlur(3))\n",
    "    img = img.filter(ImageFilter.GaussianBlur(3))\n",
    "\n",
    "    img.thumbnail(size)\n",
    "    img.save(f'processed/{img_name}')\n",
    "    print(f'{img_name} was processed...')\n",
    "    \n",
    "stop = time.perf_counter()\n",
    "print('Finished in', round(stop-start, 2), 'seconds')"
   ]
  },
  {
   "cell_type": "code",
   "execution_count": 5,
   "metadata": {},
   "outputs": [
    {
     "name": "stdout",
     "output_type": "stream",
     "text": [
      "photo-1516117172878-fd2c41f4a759.jpg was processed...\n",
      "photo-1524429656589-6633a470097c.jpg was processed...\n",
      "photo-1530224264768-7ff8c1789d79.jpg was processed...\n",
      "photo-1532009324734-20a7a5813719.jpg was processed...\n",
      "photo-1564135624576-c5c88640f235.jpg was processed...\n",
      "photo-1507143550189-fed454f93097.jpg was processed...\n",
      "photo-1522364723953-452d3431c267.jpg was processed...\n",
      "photo-1541698444083-023c97d3f4b6.jpg was processed...\n",
      "photo-1513938709626-033611b8cc03.jpg was processed...\n",
      "photo-1516972810927-80185027ca84.jpg was processed...\n",
      "photo-1530122037265-a5f1f91d3b99.jpg was processed...\n",
      "photo-1504198453319-5ce911bafcde.jpg was processed...\n",
      "photo-1493976040374-85c8e12f0c0e.jpg was processed...\n",
      "photo-1550439062-609e1531270e.jpg was processed...\n",
      "photo-1549692520-acc6669e2f0c.jpg was processed...\n",
      "Finished in 33.81 seconds\n"
     ]
    }
   ],
   "source": [
    "# usual multiprocessing\n",
    "start = time.perf_counter()\n",
    "\n",
    "size = (1200, 1200)\n",
    "\n",
    "def process_image(img_name):\n",
    "    img = Image.open(img_name)\n",
    "\n",
    "    img = img.filter(ImageFilter.GaussianBlur(15))\n",
    "    img = img.filter(ImageFilter.GaussianBlur(10))\n",
    "    img = img.filter(ImageFilter.GaussianBlur(5))\n",
    "    img = img.filter(ImageFilter.GaussianBlur(3))\n",
    "    img = img.filter(ImageFilter.GaussianBlur(3))\n",
    "\n",
    "    img.thumbnail(size)\n",
    "    img.save(f'processed/{img_name}')\n",
    "    print(f'{img_name} was processed...')\n",
    "    \n",
    "with concurrent.futures.ProcessPoolExecutor() as executor:\n",
    "    for img_name in img_names:\n",
    "        executor.submit(process_image, img_name)\n",
    "    \n",
    "stop = time.perf_counter()\n",
    "print('Finished in', round(stop-start, 2), 'seconds')"
   ]
  },
  {
   "cell_type": "code",
   "execution_count": 6,
   "metadata": {},
   "outputs": [
    {
     "name": "stdout",
     "output_type": "stream",
     "text": [
      "photo-1516117172878-fd2c41f4a759.jpg was processed...\n",
      "photo-1507143550189-fed454f93097.jpg was processed...\n",
      "photo-1516972810927-80185027ca84.jpg was processed...\n",
      "photo-1522364723953-452d3431c267.jpg was processed...\n",
      "photo-1524429656589-6633a470097c.jpg was processed...\n",
      "photo-1530224264768-7ff8c1789d79.jpg was processed...\n",
      "photo-1530122037265-a5f1f91d3b99.jpg was processed...\n",
      "photo-1532009324734-20a7a5813719.jpg was processed...\n",
      "photo-1564135624576-c5c88640f235.jpg was processed...\n",
      "photo-1513938709626-033611b8cc03.jpg was processed...\n",
      "photo-1549692520-acc6669e2f0c.jpg was processed...\n",
      "photo-1541698444083-023c97d3f4b6.jpg was processed...\n",
      "photo-1550439062-609e1531270e.jpg was processed...\n",
      "photo-1504198453319-5ce911bafcde.jpg was processed...\n",
      "photo-1493976040374-85c8e12f0c0e.jpg was processed...\n",
      "Finished in 32.17 seconds\n"
     ]
    }
   ],
   "source": [
    "# using threading just to experiment\n",
    "start = time.perf_counter()\n",
    "\n",
    "size = (1200, 1200)\n",
    "\n",
    "def process_image(img_name):\n",
    "    img = Image.open(img_name)\n",
    "\n",
    "    img = img.filter(ImageFilter.GaussianBlur(15))\n",
    "    img = img.filter(ImageFilter.GaussianBlur(10))\n",
    "    img = img.filter(ImageFilter.GaussianBlur(5))\n",
    "    img = img.filter(ImageFilter.GaussianBlur(3))\n",
    "    img = img.filter(ImageFilter.GaussianBlur(3))\n",
    "\n",
    "    img.thumbnail(size)\n",
    "    img.save(f'processed/{img_name}')\n",
    "    print(f'{img_name} was processed...')\n",
    "    \n",
    "with concurrent.futures.ThreadPoolExecutor() as executor:\n",
    "    for img_name in img_names:\n",
    "        executor.submit(process_image, img_name)\n",
    "    \n",
    "stop = time.perf_counter()\n",
    "print('Finished in', round(stop-start, 2), 'seconds')\n",
    "# the timing is shorter than multiprocessing but I don't know may be the computation isn't intensive enough"
   ]
  },
  {
   "cell_type": "code",
   "execution_count": null,
   "metadata": {},
   "outputs": [],
   "source": []
  }
 ],
 "metadata": {
  "kernelspec": {
   "display_name": "Python 3",
   "language": "python",
   "name": "python3"
  },
  "language_info": {
   "codemirror_mode": {
    "name": "ipython",
    "version": 3
   },
   "file_extension": ".py",
   "mimetype": "text/x-python",
   "name": "python",
   "nbconvert_exporter": "python",
   "pygments_lexer": "ipython3",
   "version": "3.7.7"
  }
 },
 "nbformat": 4,
 "nbformat_minor": 4
}
