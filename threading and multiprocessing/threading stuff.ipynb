{
 "cells": [
  {
   "cell_type": "code",
   "execution_count": 1,
   "metadata": {},
   "outputs": [],
   "source": [
    "# Why do we use threading?\n",
    "# whenever we need our program to significantly speed up \n",
    "# this speed up comes from running tasks concurrently"
   ]
  },
  {
   "cell_type": "code",
   "execution_count": 2,
   "metadata": {},
   "outputs": [
    {
     "name": "stdout",
     "output_type": "stream",
     "text": [
      "sleeping for 1 second...\n",
      "done sleeping...\n",
      "sleeping for 1 second...\n",
      "done sleeping...\n",
      "Finished in 2.0 seconds\n"
     ]
    }
   ],
   "source": [
    "# simple normal example\n",
    "import time\n",
    "\n",
    "start = time.perf_counter()\n",
    "\n",
    "def do_something():\n",
    "    print('sleeping for 1 second...')\n",
    "    time.sleep(1)\n",
    "    print('done sleeping...')\n",
    "do_something()\n",
    "do_something()\n",
    "\n",
    "stop = time.perf_counter()\n",
    "print('Finished in', round(stop-start, 2), 'seconds')"
   ]
  },
  {
   "cell_type": "code",
   "execution_count": 4,
   "metadata": {},
   "outputs": [],
   "source": [
    "# program flow - function-call -> wait to complete execution -> function-call -> wait to complete execution -> Done\n",
    "\n",
    "# running everything in order like this is called running synchronously\n",
    "# synchronous running doesn't do much on the CPU when we wait around for sleep to complete\n",
    "# this is called CPU or I/O bound task\n",
    "# CPU bound tasks - crunching a lot of numbers\n",
    "# I/O bound task - just wait for input and output operations to be completed not really using CPU that much\n",
    "# I/O tasks - reading or writing file system, network operations, downloading stuff online\n",
    "# we will experience the benifits of threading when our program is mostly I/O bound\n",
    "# we will not experience any benifits when we use threading with CPU bound tasks moreover it will increase the runtime due to thread creation overgead\n",
    "\n",
    "# what happens when we use threading\n",
    "# function call -> wait to complete execution\n",
    "#                call -> wait to complete execution -> done"
   ]
  },
  {
   "cell_type": "code",
   "execution_count": 3,
   "metadata": {},
   "outputs": [],
   "source": [
    "import threading"
   ]
  },
  {
   "cell_type": "code",
   "execution_count": 8,
   "metadata": {},
   "outputs": [
    {
     "name": "stdout",
     "output_type": "stream",
     "text": [
      "sleeping for 1 second...\n",
      "sleeping for 1 second...Finished in 0.05 seconds\n",
      "\n",
      "done sleeping...\n",
      "done sleeping...\n"
     ]
    }
   ],
   "source": [
    "start = time.perf_counter()\n",
    "\n",
    "def do_something():\n",
    "    print('sleeping for 1 second...')\n",
    "    time.sleep(1)\n",
    "    print('done sleeping...')\n",
    "\n",
    "# create thread objects\n",
    "t1 = threading.Thread(target=do_something)\n",
    "t2 = threading.Thread(target=do_something)\n",
    "\n",
    "# start running\n",
    "t1.start()\n",
    "t2.start()\n",
    "\n",
    "stop = time.perf_counter()\n",
    "print('Finished in', round(stop-start, 2), 'seconds')"
   ]
  },
  {
   "cell_type": "code",
   "execution_count": 9,
   "metadata": {},
   "outputs": [],
   "source": [
    "# as you can see threads started and the program doesn't wait for them to complete - it moves on to printing time, later when functions are done it outputs one by one\n",
    "# this is a kind of asynchronous programming"
   ]
  },
  {
   "cell_type": "code",
   "execution_count": 10,
   "metadata": {},
   "outputs": [
    {
     "name": "stdout",
     "output_type": "stream",
     "text": [
      "sleeping for 1 second...\n",
      "sleeping for 1 second...\n",
      "done sleeping...\n",
      "done sleeping...\n",
      "Finished in 1.01 seconds\n"
     ]
    }
   ],
   "source": [
    "# what if we wanted to calculate the finish time only when the threads are compleated\n",
    "# we use join method\n",
    "start = time.perf_counter()\n",
    "\n",
    "def do_something():\n",
    "    print('sleeping for 1 second...')\n",
    "    time.sleep(1)\n",
    "    print('done sleeping...')\n",
    "\n",
    "# create thread objects\n",
    "t1 = threading.Thread(target=do_something)\n",
    "t2 = threading.Thread(target=do_something)\n",
    "\n",
    "# start running\n",
    "t1.start()\n",
    "t2.start()\n",
    "\n",
    "# finish the threads and then move on\n",
    "t1.join()\n",
    "t2.join()\n",
    "\n",
    "stop = time.perf_counter()\n",
    "print('Finished in', round(stop-start, 2), 'seconds')"
   ]
  },
  {
   "cell_type": "code",
   "execution_count": 11,
   "metadata": {},
   "outputs": [],
   "source": [
    "# the above output says that all the threads started at same time and completed after 1 sec\n",
    "# we can see that when we try to run 10 threads then all will complete execution within 1 sec"
   ]
  },
  {
   "cell_type": "code",
   "execution_count": 13,
   "metadata": {},
   "outputs": [
    {
     "name": "stdout",
     "output_type": "stream",
     "text": [
      "sleeping for 1 second...\n",
      "sleeping for 1 second...\n",
      "sleeping for 1 second...sleeping for 1 second...\n",
      "\n",
      "sleeping for 1 second...\n",
      "sleeping for 1 second...sleeping for 1 second...\n",
      "sleeping for 1 second...\n",
      "\n",
      "sleeping for 1 second...\n",
      "sleeping for 1 second...\n",
      "done sleeping...\n",
      "done sleeping...\n",
      "done sleeping...\n",
      "done sleeping...done sleeping...\n",
      "done sleeping...\n",
      "done sleeping...\n",
      "done sleeping...done sleeping...done sleeping...\n",
      "\n",
      "\n",
      "\n",
      "Finished in 1.01 seconds\n"
     ]
    }
   ],
   "source": [
    "start = time.perf_counter()\n",
    "\n",
    "def do_something():\n",
    "    print('sleeping for 1 second...')\n",
    "    time.sleep(1)\n",
    "    print('done sleeping...')\n",
    "    \n",
    "threads = []\n",
    "for _ in range(10):\n",
    "    t = threading.Thread(target=do_something)\n",
    "    t.start()\n",
    "    threads.append(t)\n",
    "    # we should not write join within this loop\n",
    "    # join will stop to complete the present thread then only it will go to next iteration to create another thread\n",
    "    # we need to run all the threads at once and join all the threads at once\n",
    "    \n",
    "for i in range(10):\n",
    "    threads[i].join()\n",
    "\n",
    "stop = time.perf_counter()\n",
    "print('Finished in', round(stop-start, 2), 'seconds')"
   ]
  },
  {
   "cell_type": "code",
   "execution_count": 16,
   "metadata": {},
   "outputs": [
    {
     "name": "stdout",
     "output_type": "stream",
     "text": [
      "sleeping for 1.5 second...\n",
      "sleeping for 1.5 second...\n",
      "sleeping for 1.5 second...\n",
      "sleeping for sleeping for 1.5 second...\n",
      "1.5 sleeping for 1.5 second...\n",
      "second...\n",
      "sleeping for 1.5 second...\n",
      "sleeping for 1.5 second...\n",
      "sleeping for 1.5 second...\n",
      "sleeping for 1.5 second...\n",
      "done sleeping...\n",
      "done sleeping...\n",
      "done sleeping...\n",
      "done sleeping...\n",
      "done sleeping...\n",
      "done sleeping...\n",
      "done sleeping...\n",
      "done sleeping...\n",
      "done sleeping...\n",
      "done sleeping...\n",
      "Finished in 1.53 seconds\n"
     ]
    }
   ],
   "source": [
    "# how to pass arguments into the function that our thread aspires to execute\n",
    "start = time.perf_counter()\n",
    "\n",
    "def do_something(sleep_time):\n",
    "    print('sleeping for', sleep_time, 'second...')\n",
    "    time.sleep(sleep_time)\n",
    "    print('done sleeping...')\n",
    "    \n",
    "threads = []\n",
    "for _ in range(10):\n",
    "    t = threading.Thread(target=do_something, args=[1.5]) # we will pass arguments as a list by using args attribute\n",
    "    t.start()\n",
    "    threads.append(t)\n",
    "    \n",
    "for i in range(10):\n",
    "    threads[i].join()\n",
    "\n",
    "stop = time.perf_counter()\n",
    "print('Finished in', round(stop-start, 2), 'seconds')"
   ]
  },
  {
   "cell_type": "code",
   "execution_count": 33,
   "metadata": {},
   "outputs": [
    {
     "name": "stdout",
     "output_type": "stream",
     "text": [
      "sleeping for 1 second...\n",
      "sleeping for 1 second...\n",
      "sleeping for 1 second...\n",
      "sleeping for 1 second...\n",
      "sleeping for 1 second...\n",
      "sleeping for 1 second...\n",
      "sleeping for 1 second...\n",
      "sleeping forsleeping for 1 second...\n",
      " 1 second...\n",
      "sleeping for 1 second...\n",
      "done sleeping...\n",
      "done sleeping...done sleeping...\n",
      "done sleeping...\n",
      "done sleeping...\n",
      "done sleeping...\n",
      "\n",
      "done sleeping...done sleeping...done sleeping...\n",
      "\n",
      "\n",
      "done sleeping...\n",
      "value is returned\n",
      "value is returned\n",
      "value is returned\n",
      "value is returned\n",
      "value is returned\n",
      "value is returned\n",
      "value is returned\n",
      "value is returned\n",
      "value is returned\n",
      "value is returned\n",
      "Finished in 1.02 seconds\n"
     ]
    }
   ],
   "source": [
    "# how to capture return values from the function\n",
    "import queue\n",
    "\n",
    "start = time.perf_counter()\n",
    "\n",
    "output = queue.Queue()\n",
    "\n",
    "def do_something(sleep_time):\n",
    "    print('sleeping for', sleep_time, 'second...')\n",
    "    time.sleep(sleep_time)\n",
    "    print('done sleeping...')\n",
    "    return 'value is returned'\n",
    "    \n",
    "threads = []\n",
    "for _ in range(10):\n",
    "    t = threading.Thread(target=lambda q, arg1: q.put(do_something(arg1)), args=[output, 1])\n",
    "    t.start()\n",
    "    threads.append(t)\n",
    "    \n",
    "for i in range(10):\n",
    "    threads[i].join()\n",
    "\n",
    "while not output.empty():\n",
    "    print(output.get())\n",
    "\n",
    "stop = time.perf_counter()\n",
    "print('Finished in', round(stop-start, 2), 'seconds')"
   ]
  },
  {
   "cell_type": "code",
   "execution_count": 4,
   "metadata": {},
   "outputs": [],
   "source": [
    "# New and effecient way of using threads\n",
    "import concurrent.futures"
   ]
  },
  {
   "cell_type": "code",
   "execution_count": 31,
   "metadata": {},
   "outputs": [
    {
     "name": "stdout",
     "output_type": "stream",
     "text": [
      "sleeping for 1.5 second...\n",
      "done sleeping...\n",
      "Finished in 1.5 seconds\n"
     ]
    }
   ],
   "source": [
    "# simple threading by doing once\n",
    "start = time.perf_counter()\n",
    "\n",
    "def do_something(sleep_time):\n",
    "    print('sleeping for', sleep_time, 'second...')\n",
    "    time.sleep(sleep_time)\n",
    "    return 'done sleeping...'\n",
    "    \n",
    "# we will use context manager to be safe\n",
    "with concurrent.futures.ThreadPoolExecutor() as executor:\n",
    "    # if we wanna execute the function one at a time we ought to use submit method\n",
    "    f1 = executor.submit(do_something, 1.5) # 2 args, function name, arguments. It returns a futures object\n",
    "    # the future object basically encapsulates the execution of our function, it allows us to check in on in after it's been scheduled\n",
    "    # we can check whether it' running or done and also check the result(return value)\n",
    "    print(f1.result()) # it will actually wait around until our function completes\n",
    "    \n",
    "stop = time.perf_counter()\n",
    "print('Finished in', round(stop-start, 2), 'seconds')"
   ]
  },
  {
   "cell_type": "code",
   "execution_count": 32,
   "metadata": {},
   "outputs": [
    {
     "name": "stdout",
     "output_type": "stream",
     "text": [
      "sleeping for 1.5 second...\n",
      "sleeping for 1.5 second...\n",
      "done sleeping...\n",
      "done sleeping...\n",
      "Finished in 1.51 seconds\n"
     ]
    }
   ],
   "source": [
    "# simple threading by doing twice\n",
    "start = time.perf_counter()\n",
    "\n",
    "def do_something(sleep_time):\n",
    "    print('sleeping for', sleep_time, 'second...')\n",
    "    time.sleep(sleep_time)\n",
    "    return 'done sleeping...'\n",
    "    \n",
    "# we will use context manager to be safe\n",
    "with concurrent.futures.ThreadPoolExecutor() as executor:\n",
    "    f1 = executor.submit(do_something, 1.5) #executor.submit is asynchronous\n",
    "    f2 = executor.submit(do_something, 1.5) #executor.submit is asynchronous\n",
    "    print(f1.result())\n",
    "    print(f2.result())\n",
    "    \n",
    "stop = time.perf_counter()\n",
    "print('Finished in', round(stop-start, 2), 'seconds')"
   ]
  },
  {
   "cell_type": "code",
   "execution_count": 46,
   "metadata": {},
   "outputs": [
    {
     "name": "stdout",
     "output_type": "stream",
     "text": [
      "sleeping for 1 second...\n",
      "sleeping for 1 second...\n",
      "sleeping for 1 second...\n",
      "sleeping for 1 second...\n",
      "sleeping forsleeping for 1 second...\n",
      " 1 second...\n",
      "sleeping forsleeping for 1 second...\n",
      " sleeping for 1 second...\n",
      "1 second...\n",
      "sleeping for 1 second...\n",
      "done sleeping...\n",
      "done sleeping...\n",
      "done sleeping...\n",
      "done sleeping...\n",
      "done sleeping...\n",
      "done sleeping...\n",
      "done sleeping...\n",
      "done sleeping...\n",
      "done sleeping...\n",
      "done sleeping...\n",
      "Finished in 1.02 seconds\n"
     ]
    }
   ],
   "source": [
    "# multiple threading - part 1\n",
    "start = time.perf_counter()\n",
    "\n",
    "def do_something(sleep_time):\n",
    "    print('sleeping for', sleep_time, 'second...')\n",
    "    time.sleep(sleep_time)\n",
    "    return 'done sleeping...'\n",
    "    \n",
    "# we will use context manager to be safe\n",
    "with concurrent.futures.ThreadPoolExecutor() as executor:\n",
    "    futures = []\n",
    "    for _ in range(10):\n",
    "        f = executor.submit(do_something, 1) #executor.submit is asynchronous\n",
    "        futures.append(f)\n",
    "    for i in range(10):\n",
    "        print(futures[i].result())\n",
    "    \n",
    "stop = time.perf_counter()\n",
    "print('Finished in', round(stop-start, 2), 'seconds')"
   ]
  },
  {
   "cell_type": "code",
   "execution_count": 50,
   "metadata": {},
   "outputs": [
    {
     "name": "stdout",
     "output_type": "stream",
     "text": [
      "sleeping for 2 second...\n",
      "sleeping for 5 second...\n",
      "sleeping for sleeping for10 4 second...\n",
      "sleeping for  second...1\n",
      " second...\n",
      "sleeping for sleeping for 9 second...\n",
      "8sleeping for 10 second...\n",
      " second...\n",
      "sleeping for 8 second...\n",
      "sleeping for 8 second...\n",
      "done sleeping 2seconds\n",
      "done sleeping 5seconds\n",
      "done sleeping 10seconds\n",
      "done sleeping 4seconds\n",
      "done sleeping 1seconds\n",
      "done sleeping 8seconds\n",
      "done sleeping 9seconds\n",
      "done sleeping 10seconds\n",
      "done sleeping 8seconds\n",
      "done sleeping 8seconds\n",
      "Finished in 10.03 seconds\n"
     ]
    }
   ],
   "source": [
    "# multiple threading - part 2\n",
    "start = time.perf_counter()\n",
    "\n",
    "def do_something(sleep_time):\n",
    "    print('sleeping for', sleep_time, 'second...')\n",
    "    time.sleep(sleep_time)\n",
    "    return 'done sleeping '+str(sleep_time)+'seconds'\n",
    "    \n",
    "# we will use context manager to be safe\n",
    "with concurrent.futures.ThreadPoolExecutor() as executor:\n",
    "    futures = []\n",
    "    for _ in range(10):\n",
    "        f = executor.submit(do_something, random.randint(1,10))\n",
    "        futures.append(f)\n",
    "    for i in range(10):\n",
    "        print(futures[i].result()) # result will be printed only when futures[i] is fully executed\n",
    "    \n",
    "stop = time.perf_counter()\n",
    "print('Finished in', round(stop-start, 2), 'seconds')"
   ]
  },
  {
   "cell_type": "code",
   "execution_count": 48,
   "metadata": {},
   "outputs": [
    {
     "name": "stdout",
     "output_type": "stream",
     "text": [
      "sleeping for 1 second...\n",
      "sleeping for 1 sleeping forsecond...\n",
      " 1 second...\n",
      "sleeping for 1 second...\n",
      "sleeping for 1 second...\n",
      "sleeping for 1 second...\n",
      "sleeping for 1 second...\n",
      "sleeping for 1 second...\n",
      "sleeping forsleeping for 1 second...\n",
      " 1 second...\n",
      "done sleeping...\n",
      "done sleeping...\n",
      "done sleeping...\n",
      "done sleeping...\n",
      "done sleeping...\n",
      "done sleeping...\n",
      "done sleeping...\n",
      "done sleeping...\n",
      "done sleeping...\n",
      "done sleeping...\n",
      "Finished in 1.01 seconds\n"
     ]
    }
   ],
   "source": [
    "# another way to get results in multithreading - part 1\n",
    "# this provides output return values for whichever thread completes first - this method is smooth\n",
    "start = time.perf_counter()\n",
    "\n",
    "def do_something(sleep_time):\n",
    "    print('sleeping for', sleep_time, 'second...')\n",
    "    time.sleep(sleep_time)\n",
    "    return 'done sleeping...'\n",
    "    \n",
    "# we will use context manager to be safe\n",
    "with concurrent.futures.ThreadPoolExecutor() as executor:\n",
    "    futures = []\n",
    "    for _ in range(10):\n",
    "        f = executor.submit(do_something, 1)\n",
    "        futures.append(f)\n",
    "    for f in concurrent.futures.as_completed(futures):\n",
    "        print(f.result())\n",
    "    \n",
    "stop = time.perf_counter()\n",
    "print('Finished in', round(stop-start, 2), 'seconds')"
   ]
  },
  {
   "cell_type": "code",
   "execution_count": 51,
   "metadata": {},
   "outputs": [
    {
     "name": "stdout",
     "output_type": "stream",
     "text": [
      "sleeping for 3 second...\n",
      "sleeping for 2 second...\n",
      "sleeping for sleeping for 9 second...\n",
      "2 second...\n",
      "sleeping for 8 second...\n",
      "sleeping for 7 sleeping for 8 second...\n",
      "sleeping for 8 second...\n",
      "second...sleeping for 5 second...\n",
      "\n",
      "sleeping for 6 second...\n",
      "done sleeping 2seconds\n",
      "done sleeping 2seconds\n",
      "done sleeping 3seconds\n",
      "done sleeping 5seconds\n",
      "done sleeping 6seconds\n",
      "done sleeping 7seconds\n",
      "done sleeping 8seconds\n",
      "done sleeping 8seconds\n",
      "done sleeping 8seconds\n",
      "done sleeping 9seconds\n",
      "Finished in 9.03 seconds\n"
     ]
    }
   ],
   "source": [
    "# another way to get results in multithreading - part 2\n",
    "import random\n",
    "\n",
    "start = time.perf_counter()\n",
    "\n",
    "def do_something(sleep_time):\n",
    "    print('sleeping for', sleep_time, 'second...')\n",
    "    time.sleep(sleep_time)\n",
    "    return 'done sleeping '+str(sleep_time)+'seconds'\n",
    "    \n",
    "# we will use context manager to be safe\n",
    "with concurrent.futures.ThreadPoolExecutor() as executor:\n",
    "    futures = []\n",
    "    for _ in range(10):\n",
    "        f = executor.submit(do_something, random.randint(1,10))\n",
    "        futures.append(f)\n",
    "    for f in concurrent.futures.as_completed(futures): # whichever elemnt in futures list finishes first is printing it's return value\n",
    "        print(f.result())\n",
    "    \n",
    "stop = time.perf_counter()\n",
    "print('Finished in', round(stop-start, 2), 'seconds')"
   ]
  },
  {
   "cell_type": "code",
   "execution_count": 1,
   "metadata": {},
   "outputs": [],
   "source": [
    "# Mini Project - Download high resolution images faster"
   ]
  },
  {
   "cell_type": "code",
   "execution_count": 2,
   "metadata": {},
   "outputs": [],
   "source": [
    "# Required data stuff\n",
    "import requests\n",
    "import time\n",
    "import concurrent.futures\n",
    "\n",
    "img_urls = [\n",
    "    'https://images.unsplash.com/photo-1516117172878-fd2c41f4a759',\n",
    "    'https://images.unsplash.com/photo-1532009324734-20a7a5813719',\n",
    "    'https://images.unsplash.com/photo-1524429656589-6633a470097c',\n",
    "    'https://images.unsplash.com/photo-1530224264768-7ff8c1789d79',\n",
    "    'https://images.unsplash.com/photo-1564135624576-c5c88640f235',\n",
    "    'https://images.unsplash.com/photo-1541698444083-023c97d3f4b6',\n",
    "    'https://images.unsplash.com/photo-1522364723953-452d3431c267',\n",
    "    'https://images.unsplash.com/photo-1513938709626-033611b8cc03',\n",
    "    'https://images.unsplash.com/photo-1507143550189-fed454f93097',\n",
    "    'https://images.unsplash.com/photo-1493976040374-85c8e12f0c0e',\n",
    "    'https://images.unsplash.com/photo-1504198453319-5ce911bafcde',\n",
    "    'https://images.unsplash.com/photo-1530122037265-a5f1f91d3b99',\n",
    "    'https://images.unsplash.com/photo-1516972810927-80185027ca84',\n",
    "    'https://images.unsplash.com/photo-1550439062-609e1531270e',\n",
    "    'https://images.unsplash.com/photo-1549692520-acc6669e2f0c'\n",
    "]"
   ]
  },
  {
   "cell_type": "code",
   "execution_count": 3,
   "metadata": {},
   "outputs": [
    {
     "name": "stdout",
     "output_type": "stream",
     "text": [
      "photo-1516117172878-fd2c41f4a759.jpg was downloaded...\n",
      "photo-1532009324734-20a7a5813719.jpg was downloaded...\n",
      "photo-1524429656589-6633a470097c.jpg was downloaded...\n",
      "photo-1530224264768-7ff8c1789d79.jpg was downloaded...\n",
      "photo-1564135624576-c5c88640f235.jpg was downloaded...\n",
      "photo-1541698444083-023c97d3f4b6.jpg was downloaded...\n",
      "photo-1522364723953-452d3431c267.jpg was downloaded...\n",
      "photo-1513938709626-033611b8cc03.jpg was downloaded...\n",
      "photo-1507143550189-fed454f93097.jpg was downloaded...\n",
      "photo-1493976040374-85c8e12f0c0e.jpg was downloaded...\n",
      "photo-1504198453319-5ce911bafcde.jpg was downloaded...\n",
      "photo-1530122037265-a5f1f91d3b99.jpg was downloaded...\n",
      "photo-1516972810927-80185027ca84.jpg was downloaded...\n",
      "photo-1550439062-609e1531270e.jpg was downloaded...\n",
      "photo-1549692520-acc6669e2f0c.jpg was downloaded...\n",
      "Finished in 33.83 seconds\n"
     ]
    }
   ],
   "source": [
    "# normal usual method\n",
    "\n",
    "start = time.perf_counter()\n",
    "\n",
    "for img_url in img_urls:\n",
    "    img_bytes = requests.get(img_url).content\n",
    "    img_name = img_url.split('/')[3]\n",
    "    img_name = f'{img_name}.jpg'\n",
    "    with open(img_name, 'wb') as img_file:\n",
    "        img_file.write(img_bytes)\n",
    "        print(f'{img_name} was downloaded...')\n",
    "        \n",
    "stop = time.perf_counter()\n",
    "print('Finished in', round(stop-start, 2), 'seconds')    "
   ]
  },
  {
   "cell_type": "code",
   "execution_count": 3,
   "metadata": {},
   "outputs": [
    {
     "name": "stdout",
     "output_type": "stream",
     "text": [
      "photo-1564135624576-c5c88640f235.jpg was downloaded...\n",
      "photo-1516117172878-fd2c41f4a759.jpg was downloaded...\n",
      "photo-1507143550189-fed454f93097.jpg was downloaded...\n",
      "photo-1549692520-acc6669e2f0c.jpg was downloaded...\n",
      "photo-1516972810927-80185027ca84.jpg was downloaded...\n",
      "photo-1504198453319-5ce911bafcde.jpg was downloaded...\n",
      "photo-1530224264768-7ff8c1789d79.jpg was downloaded...\n",
      "photo-1530122037265-a5f1f91d3b99.jpg was downloaded...\n",
      "photo-1550439062-609e1531270e.jpg was downloaded...\n",
      "photo-1522364723953-452d3431c267.jpg was downloaded...\n",
      "photo-1524429656589-6633a470097c.jpg was downloaded...\n",
      "photo-1513938709626-033611b8cc03.jpg was downloaded...\n",
      "photo-1532009324734-20a7a5813719.jpg was downloaded...\n",
      "photo-1541698444083-023c97d3f4b6.jpg was downloaded...\n",
      "photo-1493976040374-85c8e12f0c0e.jpg was downloaded...\n",
      "Finished in 278.91 seconds\n"
     ]
    }
   ],
   "source": [
    "# Using threading\n",
    "\n",
    "start = time.perf_counter()\n",
    "\n",
    "def download_image(img_url):\n",
    "    img_bytes = requests.get(img_url).content\n",
    "    img_name = img_url.split('/')[3]\n",
    "    img_name = f'{img_name}.jpg'\n",
    "    with open(img_name, 'wb') as img_file:\n",
    "        img_file.write(img_bytes)\n",
    "        print(f'{img_name} was downloaded...')\n",
    "        \n",
    "with concurrent.futures.ThreadPoolExecutor() as executor:\n",
    "    for img_url in img_urls:\n",
    "        executor.submit(download_image, img_url)\n",
    "        \n",
    "stop = time.perf_counter()\n",
    "print('Finished in', round(stop-start, 2), 'seconds') "
   ]
  },
  {
   "cell_type": "code",
   "execution_count": 4,
   "metadata": {},
   "outputs": [
    {
     "name": "stdout",
     "output_type": "stream",
     "text": [
      "photo-1516117172878-fd2c41f4a759.jpg was downloaded...\n",
      "photo-1549692520-acc6669e2f0c.jpg was downloaded...\n",
      "photo-1507143550189-fed454f93097.jpg was downloaded...\n",
      "photo-1530122037265-a5f1f91d3b99.jpg was downloaded...\n",
      "photo-1564135624576-c5c88640f235.jpg was downloaded...\n",
      "photo-1550439062-609e1531270e.jpg was downloaded...\n",
      "photo-1504198453319-5ce911bafcde.jpg was downloaded...\n",
      "photo-1532009324734-20a7a5813719.jpg was downloaded...\n",
      "photo-1522364723953-452d3431c267.jpg was downloaded...\n",
      "photo-1493976040374-85c8e12f0c0e.jpg was downloaded...\n",
      "photo-1530224264768-7ff8c1789d79.jpg was downloaded...\n",
      "photo-1524429656589-6633a470097c.jpg was downloaded...\n",
      "photo-1513938709626-033611b8cc03.jpg was downloaded...\n",
      "photo-1516972810927-80185027ca84.jpg was downloaded...\n",
      "photo-1541698444083-023c97d3f4b6.jpg was downloaded...\n",
      "Finished in 26.47 seconds\n"
     ]
    }
   ],
   "source": [
    "# Using threading - similar to above code with fewer lines of code\n",
    "\n",
    "start = time.perf_counter()\n",
    "\n",
    "def download_image(img_url):\n",
    "    img_bytes = requests.get(img_url).content\n",
    "    img_name = img_url.split('/')[3]\n",
    "    img_name = f'{img_name}.jpg'\n",
    "    with open(img_name, 'wb') as img_file:\n",
    "        img_file.write(img_bytes)\n",
    "        print(f'{img_name} was downloaded...')\n",
    "        \n",
    "with concurrent.futures.ThreadPoolExecutor() as executor:\n",
    "    executor.map(download_image, img_urls)\n",
    "        \n",
    "stop = time.perf_counter()\n",
    "print('Finished in', round(stop-start, 2), 'seconds')  "
   ]
  },
  {
   "cell_type": "code",
   "execution_count": 8,
   "metadata": {},
   "outputs": [
    {
     "name": "stdout",
     "output_type": "stream",
     "text": [
      "photo-1516117172878-fd2c41f4a759.jpg was downloaded...\n",
      "photo-1530122037265-a5f1f91d3b99.jpg was downloaded...\n",
      "photo-1564135624576-c5c88640f235.jpg was downloaded...\n",
      "photo-1507143550189-fed454f93097.jpg was downloaded...\n",
      "photo-1549692520-acc6669e2f0c.jpg was downloaded...\n",
      "photo-1516972810927-80185027ca84.jpg was downloaded...\n",
      "photo-1504198453319-5ce911bafcde.jpg was downloaded...\n",
      "photo-1550439062-609e1531270e.jpg was downloaded...\n",
      "photo-1513938709626-033611b8cc03.jpg was downloaded...\n",
      "photo-1530224264768-7ff8c1789d79.jpg was downloaded...\n",
      "photo-1524429656589-6633a470097c.jpg was downloaded...\n",
      "photo-1522364723953-452d3431c267.jpg was downloaded...\n",
      "photo-1532009324734-20a7a5813719.jpg was downloaded...\n",
      "photo-1493976040374-85c8e12f0c0e.jpg was downloaded...\n",
      "photo-1541698444083-023c97d3f4b6.jpg was downloaded...\n",
      "Finished in 24.59 seconds\n"
     ]
    }
   ],
   "source": [
    "# using threading library - but not so good method, use above methods\n",
    "import threading\n",
    "\n",
    "start = time.perf_counter()\n",
    "\n",
    "def download_image(img_url):\n",
    "    img_bytes = requests.get(img_url).content\n",
    "    img_name = img_url.split('/')[3]\n",
    "    img_name = f'{img_name}.jpg'\n",
    "    with open(img_name, 'wb') as img_file:\n",
    "        img_file.write(img_bytes)\n",
    "        print(f'{img_name} was downloaded...')\n",
    "        \n",
    "threads = []\n",
    "for img_url in img_urls:\n",
    "    t = threading.Thread(target=download_image, args=[img_url])\n",
    "    t.start()\n",
    "    threads.append(t)\n",
    "for i in range(len(img_urls)):\n",
    "    threads[i].join()\n",
    "        \n",
    "stop = time.perf_counter()\n",
    "print('Finished in', round(stop-start, 2), 'seconds')  "
   ]
  },
  {
   "cell_type": "code",
   "execution_count": null,
   "metadata": {},
   "outputs": [],
   "source": []
  }
 ],
 "metadata": {
  "kernelspec": {
   "display_name": "Python 3",
   "language": "python",
   "name": "python3"
  },
  "language_info": {
   "codemirror_mode": {
    "name": "ipython",
    "version": 3
   },
   "file_extension": ".py",
   "mimetype": "text/x-python",
   "name": "python",
   "nbconvert_exporter": "python",
   "pygments_lexer": "ipython3",
   "version": "3.7.7"
  }
 },
 "nbformat": 4,
 "nbformat_minor": 4
}
