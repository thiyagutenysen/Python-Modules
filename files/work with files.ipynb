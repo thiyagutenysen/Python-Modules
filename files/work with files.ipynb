{
 "cells": [
  {
   "cell_type": "code",
   "execution_count": 1,
   "metadata": {},
   "outputs": [],
   "source": [
    "# open text file\n",
    "file_name = 'test.txt'\n",
    "# open the file for reading - 'r'\n",
    "f = open(file_name, 'r') # 2 arg, path of the file, mode"
   ]
  },
  {
   "cell_type": "code",
   "execution_count": 2,
   "metadata": {},
   "outputs": [
    {
     "name": "stdout",
     "output_type": "stream",
     "text": [
      "test.txt\n"
     ]
    }
   ],
   "source": [
    "# print name of the file\n",
    "print(f.name)"
   ]
  },
  {
   "cell_type": "code",
   "execution_count": 3,
   "metadata": {},
   "outputs": [
    {
     "name": "stdout",
     "output_type": "stream",
     "text": [
      "r\n"
     ]
    }
   ],
   "source": [
    "# print the mode with which it is opened\n",
    "print(f.mode)"
   ]
  },
  {
   "cell_type": "code",
   "execution_count": 4,
   "metadata": {},
   "outputs": [],
   "source": [
    "# it is important to close the file after it's opened\n",
    "# if not closed, it may lead to leaks\n",
    "# we may run out of total number of file descriptors \n",
    "f.close()"
   ]
  },
  {
   "cell_type": "code",
   "execution_count": 9,
   "metadata": {},
   "outputs": [
    {
     "name": "stdout",
     "output_type": "stream",
     "text": [
      "True\n"
     ]
    }
   ],
   "source": [
    "# Instead of opening and closing we may use context manager\n",
    "# this will allows us to work within a code block when we come out of it, it will actually close the file for us\n",
    "with open(file_name, 'r') as f:\n",
    "    pass\n",
    "print(str(f.closed))"
   ]
  },
  {
   "cell_type": "code",
   "execution_count": 10,
   "metadata": {},
   "outputs": [
    {
     "name": "stdout",
     "output_type": "stream",
     "text": [
      "This man deserves a knighthood.\n",
      "In the name of the Warrior I charge you Ser Corey Schafer to be brave.\n",
      "In the name of the Father I charge you to be just.\n",
      "In the name of the teacher I charge you to educate the masses.\n",
      "In the name.....\n",
      "\n",
      "Arise Ser Corey Schafer:)\n",
      "\n"
     ]
    }
   ],
   "source": [
    "# read contents of the file\n",
    "with open(file_name, 'r') as f:\n",
    "    file_content = f.read()\n",
    "print(file_content)"
   ]
  },
  {
   "cell_type": "code",
   "execution_count": 11,
   "metadata": {},
   "outputs": [
    {
     "data": {
      "text/plain": [
       "'This man deserves a knighthood.\\nIn the name of the Warrior I charge you Ser Corey Schafer to be brave.\\nIn the name of the Father I charge you to be just.\\nIn the name of the teacher I charge you to educate the masses.\\nIn the name.....\\n\\nArise Ser Corey Schafer:)\\n'"
      ]
     },
     "execution_count": 11,
     "metadata": {},
     "output_type": "execute_result"
    }
   ],
   "source": [
    "file_content"
   ]
  },
  {
   "cell_type": "code",
   "execution_count": 13,
   "metadata": {},
   "outputs": [
    {
     "name": "stdout",
     "output_type": "stream",
     "text": [
      "['This man deserves a knighthood.\\n', 'In the name of the Warrior I charge you Ser Corey Schafer to be brave.\\n', 'In the name of the Father I charge you to be just.\\n', 'In the name of the teacher I charge you to educate the masses.\\n', 'In the name.....\\n', '\\n', 'Arise Ser Corey Schafer:)\\n']\n"
     ]
    }
   ],
   "source": [
    "# what if the file is too huge to read\n",
    "# we will read them as small chunks at a time\n",
    "with open(file_name, 'r') as f:\n",
    "    file_content = f.readlines() # reads line by line\n",
    "print(file_content) # list of lines"
   ]
  },
  {
   "cell_type": "code",
   "execution_count": 14,
   "metadata": {},
   "outputs": [
    {
     "name": "stdout",
     "output_type": "stream",
     "text": [
      "This man deserves a knighthood.\n",
      "\n"
     ]
    }
   ],
   "source": [
    "# just grab the first line of the file\n",
    "with open(file_name, 'r') as f:\n",
    "    file_content = f.readline() # reads line by line\n",
    "print(file_content) # list of lines"
   ]
  },
  {
   "cell_type": "code",
   "execution_count": 15,
   "metadata": {},
   "outputs": [
    {
     "name": "stdout",
     "output_type": "stream",
     "text": [
      "This man deserves a knighthood.\n",
      "\n",
      "In the name of the Warrior I charge you Ser Corey Schafer to be brave.\n",
      "\n"
     ]
    }
   ],
   "source": [
    "# read top 2 lines of the file\n",
    "with open(file_name, 'r') as f:\n",
    "    file_content = f.readline()\n",
    "    print(file_content)\n",
    "    file_content = f.readline()\n",
    "    print(file_content)"
   ]
  },
  {
   "cell_type": "code",
   "execution_count": 16,
   "metadata": {},
   "outputs": [
    {
     "name": "stdout",
     "output_type": "stream",
     "text": [
      "This man deserves a knighthood.\n",
      "In the name of the Warrior I charge you Ser Corey Schafer to be brave.\n",
      "In the name of the Father I charge you to be just.\n",
      "In the name of the teacher I charge you to educate the masses.\n",
      "In the name.....\n",
      "\n",
      "Arise Ser Corey Schafer:)\n"
     ]
    }
   ],
   "source": [
    "# best way to read a huge file in small chunks\n",
    "with open(file_name, 'r') as f:\n",
    "    for line in f:\n",
    "        print(line, end='')"
   ]
  },
  {
   "cell_type": "code",
   "execution_count": 18,
   "metadata": {},
   "outputs": [
    {
     "name": "stdout",
     "output_type": "stream",
     "text": [
      "This man deserves a knighthood.\n",
      "In the name of the Warrior I charge you Ser Corey Schafer to be brav"
     ]
    }
   ],
   "source": [
    "# another best way to read a huge file in small chunks\n",
    "with open(file_name, 'r') as f:\n",
    "    file_content = f.read(100) # 1 arg, number of characters\n",
    "    # the above code is gonna read first 100 characters and spit it out\n",
    "print(file_content, end='')"
   ]
  },
  {
   "cell_type": "code",
   "execution_count": 23,
   "metadata": {},
   "outputs": [
    {
     "name": "stdout",
     "output_type": "stream",
     "text": [
      "This man deserves a knighthood.\n",
      "In the name of the Warrior I charge you Ser Corey Schafer to be brave.\n",
      "In the name of the Father I charge you to be just.\n",
      "In the name of the teacher I charge you to educate the masses.\n",
      "In the name.....\n",
      "\n",
      "Arise Ser Corey Schafer:)\n"
     ]
    }
   ],
   "source": [
    "with open(file_name, 'r') as f:\n",
    "    size_of_chunk = 100\n",
    "    file_content = f.read(size_of_chunk)\n",
    "    while len(file_content) > 0:\n",
    "        print(file_content, end='')\n",
    "        file_content = f.read(size_of_chunk)"
   ]
  },
  {
   "cell_type": "code",
   "execution_count": 24,
   "metadata": {},
   "outputs": [
    {
     "name": "stdout",
     "output_type": "stream",
     "text": [
      "100\n"
     ]
    }
   ],
   "source": [
    "# we will look at where our file object's current position\n",
    "with open(file_name, 'r') as f:\n",
    "    file_content = f.read(100)\n",
    "    print(f.tell()) # tell tells the current position of file object"
   ]
  },
  {
   "cell_type": "code",
   "execution_count": 27,
   "metadata": {},
   "outputs": [
    {
     "name": "stdout",
     "output_type": "stream",
     "text": [
      "This man deserves a knighthood.\n",
      "In the name of the Warrior I charge you Ser Corey Schafer to be brav\n",
      "100\n",
      "This man deserves a knighthood.\n",
      "In the name of the Warrior I charge you Ser Corey Schafer to be brav\n",
      "100\n"
     ]
    }
   ],
   "source": [
    "# we can manipulate our current position with seek method\n",
    "with open(file_name, 'r') as f:\n",
    "    file_content = f.read(100)\n",
    "    print(file_content, end='')\n",
    "    print()\n",
    "    print(f.tell())\n",
    "    \n",
    "    f.seek(0) # point to the start of the file again, seek manipulates the position of file object\n",
    "    \n",
    "    file_content = f.read(100)\n",
    "    print(file_content, end='')\n",
    "    print()\n",
    "    print(f.tell())"
   ]
  },
  {
   "cell_type": "code",
   "execution_count": 28,
   "metadata": {},
   "outputs": [],
   "source": [
    "# we will create a new file and start writing to it\n",
    "with open('write.txt', 'w') as f: # if the file doesn't exist - it will create a new file, if it exists - it will erase all the content and write newly\n",
    "    pass\n",
    "# file is created now"
   ]
  },
  {
   "cell_type": "code",
   "execution_count": 29,
   "metadata": {},
   "outputs": [],
   "source": [
    "# write to the file\n",
    "with open('write.txt', 'w') as f:\n",
    "    f.write('hbjhgjhjhhjjh')"
   ]
  },
  {
   "cell_type": "code",
   "execution_count": 30,
   "metadata": {},
   "outputs": [
    {
     "name": "stdout",
     "output_type": "stream",
     "text": [
      "hbjhgjhjhhjjh\n"
     ]
    }
   ],
   "source": [
    "with open('write.txt', 'r') as f:\n",
    "    print(f.read())"
   ]
  },
  {
   "cell_type": "code",
   "execution_count": 31,
   "metadata": {},
   "outputs": [],
   "source": [
    "# manipulating using seek works differently in write method\n",
    "# instead of adding new characters in the given position, we tend to overwrite it\n",
    "with open('write.txt', 'w') as f:\n",
    "    f.write('Test')\n",
    "    f.seek(0)\n",
    "    f.write('R')"
   ]
  },
  {
   "cell_type": "code",
   "execution_count": 32,
   "metadata": {},
   "outputs": [
    {
     "name": "stdout",
     "output_type": "stream",
     "text": [
      "Rest\n"
     ]
    }
   ],
   "source": [
    "with open('write.txt', 'r') as f:\n",
    "    print(f.read())"
   ]
  },
  {
   "cell_type": "code",
   "execution_count": 33,
   "metadata": {},
   "outputs": [],
   "source": [
    "# read content from one file and put it in another file\n",
    "with open('test.txt', 'r') as rf:\n",
    "    with open('test_copy.txt', 'w') as wf:\n",
    "        for line in rf:\n",
    "            wf.write(line)"
   ]
  },
  {
   "cell_type": "code",
   "execution_count": 34,
   "metadata": {},
   "outputs": [
    {
     "name": "stdout",
     "output_type": "stream",
     "text": [
      "This man deserves a knighthood.\n",
      "In the name of the Warrior I charge you Ser Corey Schafer to be brave.\n",
      "In the name of the Father I charge you to be just.\n",
      "In the name of the teacher I charge you to educate the masses.\n",
      "In the name.....\n",
      "\n",
      "Arise Ser Corey Schafer:)\n",
      "\n"
     ]
    }
   ],
   "source": [
    "with open('test_copy.txt', 'r') as f:\n",
    "    print(f.read())"
   ]
  },
  {
   "cell_type": "code",
   "execution_count": 35,
   "metadata": {},
   "outputs": [],
   "source": [
    "# Modes\n",
    "# 'a' - append - this will not rewrite the file, this will preserve the file and append new content at the end of the file\n",
    "# 'r+' - read and write to a file"
   ]
  },
  {
   "cell_type": "code",
   "execution_count": 36,
   "metadata": {},
   "outputs": [],
   "source": [
    "# let us try to copy a large picture file\n",
    "with open('mcl35.jpg', 'rb') as rf:\n",
    "    with open('mcl35_copy.jpg', 'wb') as wf:\n",
    "        for line in rf:\n",
    "            wf.write(line)"
   ]
  },
  {
   "cell_type": "code",
   "execution_count": 37,
   "metadata": {},
   "outputs": [],
   "source": [
    "# 'rb' - read bytes\n",
    "# 'wb' - write bytes"
   ]
  },
  {
   "cell_type": "code",
   "execution_count": 39,
   "metadata": {},
   "outputs": [],
   "source": [
    "# another method\n",
    "with open('mcl35.jpg', 'rb') as rf:\n",
    "    with open('mcl35_copy.jpg', 'wb') as wf:\n",
    "        chunk_size = 4096\n",
    "        rf_chunk = rf.read(chunk_size)\n",
    "        while len(rf_chunk) > 0:\n",
    "            wf.write(rf_chunk)\n",
    "            rf_chunk = rf.read(chunk_size)"
   ]
  },
  {
   "cell_type": "code",
   "execution_count": 41,
   "metadata": {},
   "outputs": [
    {
     "name": "stdout",
     "output_type": "stream",
     "text": [
      "123228\n"
     ]
    }
   ],
   "source": [
    "# get size of the file with number of characters\n",
    "with open('mcl35.jpg', 'rb') as rf:\n",
    "    print(len(rf.read()))"
   ]
  },
  {
   "cell_type": "code",
   "execution_count": null,
   "metadata": {},
   "outputs": [],
   "source": []
  }
 ],
 "metadata": {
  "kernelspec": {
   "display_name": "Python 3",
   "language": "python",
   "name": "python3"
  },
  "language_info": {
   "codemirror_mode": {
    "name": "ipython",
    "version": 3
   },
   "file_extension": ".py",
   "mimetype": "text/x-python",
   "name": "python",
   "nbconvert_exporter": "python",
   "pygments_lexer": "ipython3",
   "version": "3.7.7"
  }
 },
 "nbformat": 4,
 "nbformat_minor": 4
}
