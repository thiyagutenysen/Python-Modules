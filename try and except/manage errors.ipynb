{
 "cells": [
  {
   "cell_type": "code",
   "execution_count": 1,
   "metadata": {},
   "outputs": [
    {
     "ename": "FileNotFoundError",
     "evalue": "[Errno 2] No such file or directory: 'testfile.txt'",
     "output_type": "error",
     "traceback": [
      "\u001b[0;31m---------------------------------------------------------------------------\u001b[0m",
      "\u001b[0;31mFileNotFoundError\u001b[0m                         Traceback (most recent call last)",
      "\u001b[0;32m<ipython-input-1-8547702b6664>\u001b[0m in \u001b[0;36m<module>\u001b[0;34m\u001b[0m\n\u001b[1;32m      2\u001b[0m \u001b[0;34m\u001b[0m\u001b[0m\n\u001b[1;32m      3\u001b[0m \u001b[0;31m# for example this folder contains test_file.txt file but we give path to be testfile.txt and forgot the underscore\u001b[0m\u001b[0;34m\u001b[0m\u001b[0;34m\u001b[0m\u001b[0;34m\u001b[0m\u001b[0m\n\u001b[0;32m----> 4\u001b[0;31m \u001b[0mf\u001b[0m \u001b[0;34m=\u001b[0m \u001b[0mopen\u001b[0m\u001b[0;34m(\u001b[0m\u001b[0;34m'testfile.txt'\u001b[0m\u001b[0;34m)\u001b[0m\u001b[0;34m\u001b[0m\u001b[0;34m\u001b[0m\u001b[0m\n\u001b[0m\u001b[1;32m      5\u001b[0m \u001b[0mf\u001b[0m\u001b[0;34m.\u001b[0m\u001b[0mclose\u001b[0m\u001b[0;34m(\u001b[0m\u001b[0;34m)\u001b[0m\u001b[0;34m\u001b[0m\u001b[0;34m\u001b[0m\u001b[0m\n",
      "\u001b[0;31mFileNotFoundError\u001b[0m: [Errno 2] No such file or directory: 'testfile.txt'"
     ]
    }
   ],
   "source": [
    "# let's say our code shows error we certainly don't want our user to see it, so we use try and except wherever we anticipate that our code may fail\n",
    "\n",
    "# for example this folder contains test_file.txt file but we give path to be testfile.txt and forgot the underscore\n",
    "f = open('testfile.txt')\n",
    "f.close()\n",
    "# we have got an error"
   ]
  },
  {
   "cell_type": "code",
   "execution_count": 3,
   "metadata": {},
   "outputs": [
    {
     "name": "stdout",
     "output_type": "stream",
     "text": [
      "File doesnt exist\n"
     ]
    }
   ],
   "source": [
    "# method 1\n",
    "try:\n",
    "    f = open('testfile.txt') # whatever code u may anticipate that it provides error - put it inside the try block\n",
    "except Exception: # Exception is a vague term - it represents overall errors\n",
    "    print('File doesnt exist') # except block is implemented if code inside try block throws error"
   ]
  },
  {
   "cell_type": "code",
   "execution_count": 4,
   "metadata": {},
   "outputs": [
    {
     "name": "stdout",
     "output_type": "stream",
     "text": [
      "File doesnt exist\n"
     ]
    }
   ],
   "source": [
    "# method 2\n",
    "try:\n",
    "    f = open('testfile.txt')\n",
    "except:\n",
    "    print('File doesnt exist') "
   ]
  },
  {
   "cell_type": "code",
   "execution_count": 5,
   "metadata": {},
   "outputs": [
    {
     "name": "stdout",
     "output_type": "stream",
     "text": [
      "File doesnt exist\n"
     ]
    }
   ],
   "source": [
    "# Exception is a vague term, we need to do certain things for certain errors\n",
    "\n",
    "# let's see an example\n",
    "try:\n",
    "    f = open('test_file.txt')\n",
    "    f.close()\n",
    "    var = bad_var\n",
    "except Exception:\n",
    "    print('File doesnt exist')\n",
    "# see in the above try block error is with the third line where var is assigned to a variable again which is a syntax error\n",
    "# but we get output as File doesnt exist - which is wrong"
   ]
  },
  {
   "cell_type": "code",
   "execution_count": 6,
   "metadata": {},
   "outputs": [
    {
     "ename": "NameError",
     "evalue": "name 'bad_var' is not defined",
     "output_type": "error",
     "traceback": [
      "\u001b[0;31m---------------------------------------------------------------------------\u001b[0m",
      "\u001b[0;31mNameError\u001b[0m                                 Traceback (most recent call last)",
      "\u001b[0;32m<ipython-input-6-0f42259d3aab>\u001b[0m in \u001b[0;36m<module>\u001b[0;34m\u001b[0m\n\u001b[1;32m      3\u001b[0m     \u001b[0mf\u001b[0m \u001b[0;34m=\u001b[0m \u001b[0mopen\u001b[0m\u001b[0;34m(\u001b[0m\u001b[0;34m'test_file.txt'\u001b[0m\u001b[0;34m)\u001b[0m\u001b[0;34m\u001b[0m\u001b[0;34m\u001b[0m\u001b[0m\n\u001b[1;32m      4\u001b[0m     \u001b[0mf\u001b[0m\u001b[0;34m.\u001b[0m\u001b[0mclose\u001b[0m\u001b[0;34m(\u001b[0m\u001b[0;34m)\u001b[0m\u001b[0;34m\u001b[0m\u001b[0;34m\u001b[0m\u001b[0m\n\u001b[0;32m----> 5\u001b[0;31m     \u001b[0mvar\u001b[0m \u001b[0;34m=\u001b[0m \u001b[0mbad_var\u001b[0m\u001b[0;34m\u001b[0m\u001b[0;34m\u001b[0m\u001b[0m\n\u001b[0m\u001b[1;32m      6\u001b[0m \u001b[0;32mexcept\u001b[0m \u001b[0mFileNotFoundError\u001b[0m\u001b[0;34m:\u001b[0m\u001b[0;34m\u001b[0m\u001b[0;34m\u001b[0m\u001b[0m\n\u001b[1;32m      7\u001b[0m     \u001b[0mprint\u001b[0m\u001b[0;34m(\u001b[0m\u001b[0;34m'File doesnt exist'\u001b[0m\u001b[0;34m)\u001b[0m\u001b[0;34m\u001b[0m\u001b[0;34m\u001b[0m\u001b[0m\n",
      "\u001b[0;31mNameError\u001b[0m: name 'bad_var' is not defined"
     ]
    }
   ],
   "source": [
    "# specifying error types and cupturing that particular errors alone\n",
    "try:\n",
    "    f = open('test_file.txt')\n",
    "    f.close()\n",
    "    var = bad_var\n",
    "except FileNotFoundError:\n",
    "    print('File doesnt exist')\n",
    "# now u can see we get regular python error and the except is not triggerred"
   ]
  },
  {
   "cell_type": "code",
   "execution_count": 8,
   "metadata": {},
   "outputs": [
    {
     "name": "stdout",
     "output_type": "stream",
     "text": [
      "something went wrong\n"
     ]
    }
   ],
   "source": [
    "# consider all cases\n",
    "try:\n",
    "    f = open('test_file.txt')\n",
    "    f.close()\n",
    "    var = bad_var\n",
    "except FileNotFoundError:\n",
    "    print('File doesnt exist')\n",
    "except Exception:\n",
    "    print('something went wrong')"
   ]
  },
  {
   "cell_type": "code",
   "execution_count": 9,
   "metadata": {},
   "outputs": [
    {
     "name": "stdout",
     "output_type": "stream",
     "text": [
      " ----------------Example 1 ----------------\n",
      "[Errno 2] No such file or directory: 'testfile.txt'\n",
      " ----------------Example 2 ----------------\n",
      "name 'bad_var' is not defined\n"
     ]
    }
   ],
   "source": [
    "# take the error description from the console and print it out rather than using our own statement\n",
    "\n",
    "print(' ----------------Example 1 ----------------')\n",
    "try:\n",
    "    f = open('testfile.txt')\n",
    "    f.close()\n",
    "    var = bad_var\n",
    "except FileNotFoundError as e:\n",
    "    print(e)\n",
    "except Exception as e:\n",
    "    print(e)\n",
    "    \n",
    "print(' ----------------Example 2 ----------------')\n",
    "try:\n",
    "    f = open('test_file.txt')\n",
    "    f.close()\n",
    "    var = bad_var\n",
    "except FileNotFoundError as e:\n",
    "    print(e)\n",
    "except Exception as e:\n",
    "    print(e)"
   ]
  },
  {
   "cell_type": "code",
   "execution_count": 12,
   "metadata": {},
   "outputs": [
    {
     "name": "stdout",
     "output_type": "stream",
     "text": [
      "We've all run into errors and exceptions while writing Python programs. In this video, we will learn how we can handle exceptions in specific ways and also look at the control flow of a try/except/else/finally statement. Understanding how to properly handle errors will provide us with the tools to make better software in the future. Let's get started.\n",
      "\n",
      "The code from this video can be found at:\n",
      "https://github.com/CoreyMSchafer/code...​\n",
      "\n",
      "Ran successfully\n"
     ]
    }
   ],
   "source": [
    "# as of new we have seen try and except blocks\n",
    "# Now let's see try, except and else blocks\n",
    "# else is used when we don't get any error with the code that is present inside try block\n",
    "try:\n",
    "    f = open('test_file.txt')\n",
    "except FileNotFoundError as e:\n",
    "    print(e)\n",
    "except Exception as e:\n",
    "    print(e)\n",
    "else:\n",
    "    print(f.read())\n",
    "    f.close()\n",
    "    print('Ran successfully')"
   ]
  },
  {
   "cell_type": "code",
   "execution_count": 14,
   "metadata": {},
   "outputs": [
    {
     "name": "stdout",
     "output_type": "stream",
     "text": [
      " ----------------Example 1 ----------------\n",
      "[Errno 2] No such file or directory: 'testfile.txt'\n",
      "Executing Finally...\n",
      " ----------------Example 2 ----------------\n",
      "Ran successfully\n",
      "Executing Finally...\n"
     ]
    }
   ],
   "source": [
    "# Now let's see try, except, else and finally blocks\n",
    "# finally block runs no matter what happens\n",
    "# this is used when we try to release certain resources no matter whether try or except works\n",
    "# for example, if we use database in our code, in this block we could try to release it\n",
    "print(' ----------------Example 1 ----------------')\n",
    "try:\n",
    "    f = open('testfile.txt')\n",
    "except FileNotFoundError as e:\n",
    "    print(e)\n",
    "except Exception as e:\n",
    "    print(e)\n",
    "else:\n",
    "    f.close()\n",
    "    print('Ran successfully')\n",
    "finally:\n",
    "    print('Executing Finally...')\n",
    "    \n",
    "    \n",
    "print(' ----------------Example 2 ----------------')\n",
    "try:\n",
    "    f = open('test_file.txt')\n",
    "except FileNotFoundError as e:\n",
    "    print(e)\n",
    "except Exception as e:\n",
    "    print(e)\n",
    "else:\n",
    "    f.close()\n",
    "    print('Ran successfully')\n",
    "finally:\n",
    "    print('Executing Finally...')"
   ]
  },
  {
   "cell_type": "code",
   "execution_count": 19,
   "metadata": {},
   "outputs": [
    {
     "name": "stdout",
     "output_type": "stream",
     "text": [
      "something went wrong\n",
      "Executing Finally...\n"
     ]
    }
   ],
   "source": [
    "# Customize our own exception\n",
    "try:\n",
    "    f = open('test_file.txt')\n",
    "    if f.name == 'test_file.txt':\n",
    "        # we will set this error to common exception\n",
    "        raise Exception # raising or creating our own error, raise will tell python to throw error and interrupt the interpretter\n",
    "except FileNotFoundError as e:\n",
    "    print(e)\n",
    "except Exception:\n",
    "    f.close()\n",
    "    print('something went wrong')\n",
    "else:\n",
    "    f.close()\n",
    "    print('Ran successfully')\n",
    "finally:\n",
    "    print('Executing Finally...')"
   ]
  },
  {
   "cell_type": "code",
   "execution_count": null,
   "metadata": {},
   "outputs": [],
   "source": []
  },
  {
   "cell_type": "code",
   "execution_count": null,
   "metadata": {},
   "outputs": [],
   "source": []
  }
 ],
 "metadata": {
  "kernelspec": {
   "display_name": "Python 3",
   "language": "python",
   "name": "python3"
  },
  "language_info": {
   "codemirror_mode": {
    "name": "ipython",
    "version": 3
   },
   "file_extension": ".py",
   "mimetype": "text/x-python",
   "name": "python",
   "nbconvert_exporter": "python",
   "pygments_lexer": "ipython3",
   "version": "3.7.7"
  }
 },
 "nbformat": 4,
 "nbformat_minor": 4
}
