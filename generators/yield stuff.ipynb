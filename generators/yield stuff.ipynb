{
 "cells": [
  {
   "cell_type": "code",
   "execution_count": 1,
   "metadata": {},
   "outputs": [],
   "source": [
    "# generators are used to create custom iterators in python"
   ]
  },
  {
   "cell_type": "code",
   "execution_count": 2,
   "metadata": {},
   "outputs": [
    {
     "name": "stdout",
     "output_type": "stream",
     "text": [
      "[1, 4, 9, 16, 25, 36]\n"
     ]
    }
   ],
   "source": [
    "def square_numbers(nums):\n",
    "    results = []\n",
    "    for i in nums:\n",
    "        results.append(i**2)\n",
    "    return results\n",
    "my_nums = square_numbers([1,2,3,4,5,6])\n",
    "print(my_nums)"
   ]
  },
  {
   "cell_type": "code",
   "execution_count": 3,
   "metadata": {},
   "outputs": [
    {
     "name": "stdout",
     "output_type": "stream",
     "text": [
      "<generator object square_numbers at 0x7f40085714d0>\n"
     ]
    }
   ],
   "source": [
    "# use generators of the above example\n",
    "def square_numbers(nums):\n",
    "    for i in nums:\n",
    "        yield(i**2) # the yield is what makes it generator\n",
    "        \n",
    "my_nums = square_numbers([1,2,3,4,5,6])\n",
    "print(my_nums)\n",
    "# we get a generator object than getting a result\n",
    "# It doesn't hold entire result in memory\n",
    "# it yields answers one at a time\n",
    "# it is waiting for us to ask the results"
   ]
  },
  {
   "cell_type": "code",
   "execution_count": 4,
   "metadata": {},
   "outputs": [
    {
     "name": "stdout",
     "output_type": "stream",
     "text": [
      "1\n"
     ]
    }
   ],
   "source": [
    "# get the first result\n",
    "print(next(my_nums))"
   ]
  },
  {
   "cell_type": "code",
   "execution_count": 5,
   "metadata": {},
   "outputs": [
    {
     "name": "stdout",
     "output_type": "stream",
     "text": [
      "4\n",
      "9\n",
      "16\n",
      "25\n",
      "36\n"
     ]
    }
   ],
   "source": [
    "# get other next results\n",
    "print(next(my_nums))\n",
    "print(next(my_nums))\n",
    "print(next(my_nums))\n",
    "print(next(my_nums))\n",
    "print(next(my_nums))"
   ]
  },
  {
   "cell_type": "code",
   "execution_count": 6,
   "metadata": {},
   "outputs": [
    {
     "ename": "StopIteration",
     "evalue": "",
     "output_type": "error",
     "traceback": [
      "\u001b[0;31m---------------------------------------------------------------------------\u001b[0m",
      "\u001b[0;31mStopIteration\u001b[0m                             Traceback (most recent call last)",
      "\u001b[0;32m<ipython-input-6-f6b492ab7783>\u001b[0m in \u001b[0;36m<module>\u001b[0;34m\u001b[0m\n\u001b[1;32m      1\u001b[0m \u001b[0;31m# what if i run next after i exhaust all the inputs\u001b[0m\u001b[0;34m\u001b[0m\u001b[0;34m\u001b[0m\u001b[0;34m\u001b[0m\u001b[0m\n\u001b[0;32m----> 2\u001b[0;31m \u001b[0mprint\u001b[0m\u001b[0;34m(\u001b[0m\u001b[0mnext\u001b[0m\u001b[0;34m(\u001b[0m\u001b[0mmy_nums\u001b[0m\u001b[0;34m)\u001b[0m\u001b[0;34m)\u001b[0m\u001b[0;34m\u001b[0m\u001b[0;34m\u001b[0m\u001b[0m\n\u001b[0m\u001b[1;32m      3\u001b[0m \u001b[0;31m# we get an error\u001b[0m\u001b[0;34m\u001b[0m\u001b[0;34m\u001b[0m\u001b[0;34m\u001b[0m\u001b[0m\n\u001b[1;32m      4\u001b[0m \u001b[0;31m# stop iteration means it is out of values\u001b[0m\u001b[0;34m\u001b[0m\u001b[0;34m\u001b[0m\u001b[0;34m\u001b[0m\u001b[0m\n",
      "\u001b[0;31mStopIteration\u001b[0m: "
     ]
    }
   ],
   "source": [
    "# what if i run next after i exhaust all the inputs\n",
    "print(next(my_nums))\n",
    "# we get an error\n",
    "# stop iteration means it is out of values"
   ]
  },
  {
   "cell_type": "code",
   "execution_count": null,
   "metadata": {},
   "outputs": [],
   "source": [
    "# Best method\n",
    "# Use for loop to get values\n",
    "my_nums = square_numbers([1,2,3,4,5])\n",
    "for num in my_nums: # where my_nums is the generator object\n",
    "    print(num)"
   ]
  },
  {
   "cell_type": "code",
   "execution_count": 7,
   "metadata": {},
   "outputs": [
    {
     "name": "stdout",
     "output_type": "stream",
     "text": [
      "1\n",
      "4\n",
      "9\n",
      "16\n",
      "25\n"
     ]
    }
   ],
   "source": [
    "# Normal list comprehension\n",
    "my_nums = [x*x for x in [1,2,3,4,5]]\n",
    "for num in my_nums:\n",
    "    print(num)"
   ]
  },
  {
   "cell_type": "code",
   "execution_count": 8,
   "metadata": {},
   "outputs": [
    {
     "name": "stdout",
     "output_type": "stream",
     "text": [
      "1\n",
      "4\n",
      "9\n",
      "16\n",
      "25\n"
     ]
    }
   ],
   "source": [
    "# generator comprehension\n",
    "my_nums = (x*x for x in [1,2,3,4,5]) # instead of square brackets in list comprehension, we use curve brackets\n",
    "for num in my_nums:\n",
    "    print(num)"
   ]
  },
  {
   "cell_type": "code",
   "execution_count": 9,
   "metadata": {},
   "outputs": [
    {
     "name": "stdout",
     "output_type": "stream",
     "text": [
      "[1, 4, 9, 16, 25]\n"
     ]
    }
   ],
   "source": [
    "# what if we want to print out all the values from the generator\n",
    "my_nums = (x*x for x in [1,2,3,4,5])\n",
    "print(list(my_nums))\n",
    "# when we convert it to a list we will lose the advantage of generator"
   ]
  },
  {
   "cell_type": "code",
   "execution_count": 10,
   "metadata": {},
   "outputs": [],
   "source": [
    "# We will look at how generators will boost the perfomance when we deal with large dataset"
   ]
  },
  {
   "cell_type": "code",
   "execution_count": 11,
   "metadata": {},
   "outputs": [
    {
     "name": "stdout",
     "output_type": "stream",
     "text": [
      "Requirement already satisfied: memory-profiler in /home/chella/miniconda3/lib/python3.7/site-packages (0.58.0)\n",
      "Requirement already satisfied: psutil in /home/chella/miniconda3/lib/python3.7/site-packages (from memory-profiler) (5.8.0)\n"
     ]
    }
   ],
   "source": [
    "!pip install memory-profiler"
   ]
  },
  {
   "cell_type": "code",
   "execution_count": 12,
   "metadata": {},
   "outputs": [],
   "source": [
    "import memory_profiler as mem_profile\n",
    "import random\n",
    "import time\n",
    "import resource"
   ]
  },
  {
   "cell_type": "code",
   "execution_count": 13,
   "metadata": {},
   "outputs": [],
   "source": [
    "# fake data for netflix signin\n",
    "username = ['chella', 'chellz', 'nivedhithan', 'vihaan', 'akshay', 'tarun', 'manoj', 'mech_prashanth', 'nithyan', 'ranjith']\n",
    "password = ['12345', '234', 'qwerty', 'asdfg', '09876', 'balls', 'lando', 'mclaren', 'ferrari', 'petronasAMG', 'redbull']"
   ]
  },
  {
   "cell_type": "code",
   "execution_count": 14,
   "metadata": {},
   "outputs": [
    {
     "name": "stdout",
     "output_type": "stream",
     "text": [
      "Memory usage before:  [50.625] MB\n",
      "Memory usage after:  [338.0] MB\n",
      "Time taken to execute:  2.8799571370000003 seconds\n"
     ]
    }
   ],
   "source": [
    "# Normal list stuff\n",
    "\n",
    "print('Memory usage before: ', mem_profile.memory_usage(), 'MB')\n",
    "\n",
    "def account_list(num_accounts):\n",
    "    results = []\n",
    "    for i in range(num_accounts):\n",
    "        fake_account = {\n",
    "            'username': random.choice(username),\n",
    "            'password': random.choice(password),\n",
    "            'credit_card_number': random.randint(10000000, 99999999)\n",
    "        }\n",
    "        results.append(fake_account)\n",
    "    return results\n",
    "\n",
    "start_time = time.process_time()\n",
    "list_accounts = account_list(1000000)\n",
    "end_time = time.process_time()\n",
    "\n",
    "print('Memory usage after: ', mem_profile.memory_usage(), 'MB')\n",
    "print('Time taken to execute: ', end_time-start_time, 'seconds')"
   ]
  },
  {
   "cell_type": "code",
   "execution_count": 15,
   "metadata": {},
   "outputs": [
    {
     "name": "stdout",
     "output_type": "stream",
     "text": [
      "Memory usage before:  338.0 MB\n",
      "Memory usage after:  338.0 MB\n",
      "Time taken to execute:  5.07909999996059e-05 seconds\n"
     ]
    }
   ],
   "source": [
    "# using generator\n",
    "\n",
    "print('Memory usage before: ', resource.getrusage(resource.RUSAGE_SELF).ru_maxrss/1024, 'MB')\n",
    "\n",
    "def account_list(num_accounts):\n",
    "    for i in range(num_accounts):\n",
    "        fake_account = {\n",
    "            'username': random.choice(username),\n",
    "            'password': random.choice(password),\n",
    "            'credit_card_number': random.randint(10000000, 99999999)\n",
    "        }\n",
    "        yield fake_account\n",
    "\n",
    "start_time = time.process_time()\n",
    "generator_accounts = account_list(1000000)\n",
    "end_time = time.process_time()\n",
    "\n",
    "print('Memory usage after: ', resource.getrusage(resource.RUSAGE_SELF).ru_maxrss/1024, 'MB')\n",
    "print('Time taken to execute: ', end_time-start_time, 'seconds')"
   ]
  },
  {
   "cell_type": "code",
   "execution_count": 16,
   "metadata": {},
   "outputs": [
    {
     "name": "stdout",
     "output_type": "stream",
     "text": [
      "Memory usage before:  338.0 MB\n",
      "Memory usage after:  624.5625 MB\n",
      "Time taken to execute:  2.97374356 seconds\n"
     ]
    }
   ],
   "source": [
    "# using generator and convert back to list\n",
    "\n",
    "print('Memory usage before: ', resource.getrusage(resource.RUSAGE_SELF).ru_maxrss/1024, 'MB')\n",
    "\n",
    "def account_list(num_accounts):\n",
    "    for i in range(num_accounts):\n",
    "        fake_account = {\n",
    "            'username': random.choice(username),\n",
    "            'password': random.choice(password),\n",
    "            'credit_card_number': random.randint(10000000, 99999999)\n",
    "        }\n",
    "        yield fake_account\n",
    "\n",
    "start_time = time.process_time()\n",
    "list_generator_accounts = list(account_list(1000000))\n",
    "end_time = time.process_time()\n",
    "\n",
    "print('Memory usage after: ', resource.getrusage(resource.RUSAGE_SELF).ru_maxrss/1024, 'MB')\n",
    "print('Time taken to execute: ', end_time-start_time, 'seconds')"
   ]
  },
  {
   "cell_type": "code",
   "execution_count": 17,
   "metadata": {},
   "outputs": [],
   "source": [
    "# Experiments on my own"
   ]
  },
  {
   "cell_type": "code",
   "execution_count": 18,
   "metadata": {},
   "outputs": [
    {
     "name": "stdout",
     "output_type": "stream",
     "text": [
      "Memory usage before:  [624.82421875] MB\n",
      "length =  1000000\n",
      "Memory usage after:  [622.47265625] MB\n",
      "Time taken to execute:  2.987595003999999 seconds\n"
     ]
    }
   ],
   "source": [
    "# convert generator to list just to calulate the length\n",
    "\n",
    "print('Memory usage before: ', mem_profile.memory_usage(), 'MB')\n",
    "\n",
    "def account_list(num_accounts):\n",
    "    for i in range(num_accounts):\n",
    "        fake_account = {\n",
    "            'username': random.choice(username),\n",
    "            'password': random.choice(password),\n",
    "            'credit_card_number': random.randint(10000000, 99999999)\n",
    "        }\n",
    "        yield fake_account\n",
    "\n",
    "start_time = time.process_time()\n",
    "generator_accounts_2 = account_list(1000000)\n",
    "print('length = ', len(list(generator_accounts_2)))\n",
    "end_time = time.process_time()\n",
    "\n",
    "print('Memory usage after: ', mem_profile.memory_usage(), 'MB')\n",
    "print('Time taken to execute: ', end_time-start_time, 'seconds')"
   ]
  },
  {
   "cell_type": "code",
   "execution_count": null,
   "metadata": {},
   "outputs": [],
   "source": []
  },
  {
   "cell_type": "code",
   "execution_count": null,
   "metadata": {},
   "outputs": [],
   "source": []
  },
  {
   "cell_type": "code",
   "execution_count": null,
   "metadata": {},
   "outputs": [],
   "source": []
  }
 ],
 "metadata": {
  "kernelspec": {
   "display_name": "Python 3",
   "language": "python",
   "name": "python3"
  },
  "language_info": {
   "codemirror_mode": {
    "name": "ipython",
    "version": 3
   },
   "file_extension": ".py",
   "mimetype": "text/x-python",
   "name": "python",
   "nbconvert_exporter": "python",
   "pygments_lexer": "ipython3",
   "version": "3.7.7"
  }
 },
 "nbformat": 4,
 "nbformat_minor": 4
}
