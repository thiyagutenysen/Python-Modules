{
 "cells": [
  {
   "cell_type": "code",
   "execution_count": 2,
   "metadata": {},
   "outputs": [],
   "source": [
    "import itertools"
   ]
  },
  {
   "cell_type": "code",
   "execution_count": null,
   "metadata": {},
   "outputs": [],
   "source": [
    "# Once the iterable is iterated through fully - when we try to iterate it again it doesn't work, we have to initialize it again\n",
    "# It's the same for typecasting too, once we typecast it to list then when we iterate it, we won't get any output"
   ]
  },
  {
   "cell_type": "code",
   "execution_count": 3,
   "metadata": {},
   "outputs": [],
   "source": [
    "# count"
   ]
  },
  {
   "cell_type": "code",
   "execution_count": 4,
   "metadata": {},
   "outputs": [
    {
     "name": "stdout",
     "output_type": "stream",
     "text": [
      "0\n",
      "1\n",
      "2\n",
      "3\n",
      "4\n"
     ]
    }
   ],
   "source": [
    "# It simply returns an iterator that counts\n",
    "counter = itertools.count() # if no argument is passed then it will start counting from 0\n",
    "print(next(counter))\n",
    "print(next(counter))\n",
    "print(next(counter))\n",
    "print(next(counter))\n",
    "print(next(counter))"
   ]
  },
  {
   "cell_type": "code",
   "execution_count": 5,
   "metadata": {},
   "outputs": [
    {
     "name": "stdout",
     "output_type": "stream",
     "text": [
      "[(0, 100), (1, 200), (2, 300), (3, 400), (4, 500)]\n"
     ]
    }
   ],
   "source": [
    "# Use case\n",
    "# It can be used to index a list where we don't know how many elements in the list\n",
    "data = [100, 200, 300, 400, 500]\n",
    "daily_data = zip(itertools.count(), data)\n",
    "# zip gets 2 iterables as input arguments, it combines 2 iterables and pairs the value together\n",
    "# actually zip can get any number of iterables\n",
    "# zip functions returns a iterator itself which has to be looped over or type casted to get values\n",
    "# This iterator stops when the shortest iterable is exhausted.\n",
    "print(list(daily_data))"
   ]
  },
  {
   "cell_type": "code",
   "execution_count": 6,
   "metadata": {},
   "outputs": [
    {
     "name": "stdout",
     "output_type": "stream",
     "text": [
      "5\n",
      "6\n"
     ]
    }
   ],
   "source": [
    "# start attribute\n",
    "counter = itertools.count(start=5)\n",
    "print(next(counter))\n",
    "print(next(counter))"
   ]
  },
  {
   "cell_type": "code",
   "execution_count": 7,
   "metadata": {},
   "outputs": [
    {
     "name": "stdout",
     "output_type": "stream",
     "text": [
      "5\n",
      "10\n"
     ]
    }
   ],
   "source": [
    "# step attribute\n",
    "counter = itertools.count(start=5, step=5)\n",
    "print(next(counter))\n",
    "print(next(counter))"
   ]
  },
  {
   "cell_type": "code",
   "execution_count": 8,
   "metadata": {},
   "outputs": [],
   "source": [
    "# zip_longest"
   ]
  },
  {
   "cell_type": "code",
   "execution_count": 9,
   "metadata": {},
   "outputs": [
    {
     "name": "stdout",
     "output_type": "stream",
     "text": [
      "[(0, 100), (1, 200), (2, 300), (3, 400), (4, 500), (5, None), (6, None), (7, None), (8, None), (9, None)]\n"
     ]
    }
   ],
   "source": [
    "# we know that zip stops until the shortest iterable is exhausted\n",
    "# what if we wanted to stop only when the longest iterable is exhausted\n",
    "# which means we have to use none values for already exhausted shorter iterables during the process\n",
    "data = [100, 200, 300, 400, 500]\n",
    "daily_data = itertools.zip_longest(range(10), data)\n",
    "print(list(daily_data))"
   ]
  },
  {
   "cell_type": "code",
   "execution_count": 10,
   "metadata": {},
   "outputs": [],
   "source": [
    "# cycle"
   ]
  },
  {
   "cell_type": "code",
   "execution_count": 11,
   "metadata": {},
   "outputs": [
    {
     "name": "stdout",
     "output_type": "stream",
     "text": [
      "1\n",
      "2\n",
      "3\n",
      "1\n",
      "2\n"
     ]
    }
   ],
   "source": [
    "# it takes an iterable as an argument and cycle through those values over and over\n",
    "counter = itertools.cycle([1,2,3])\n",
    "print(next(counter))\n",
    "print(next(counter))\n",
    "print(next(counter))\n",
    "print(next(counter))\n",
    "print(next(counter))"
   ]
  },
  {
   "cell_type": "code",
   "execution_count": 12,
   "metadata": {},
   "outputs": [
    {
     "name": "stdout",
     "output_type": "stream",
     "text": [
      "on\n",
      "off\n",
      "on\n",
      "off\n"
     ]
    }
   ],
   "source": [
    "counter = itertools.cycle(('on', 'off'))\n",
    "print(next(counter))\n",
    "print(next(counter))\n",
    "print(next(counter))\n",
    "print(next(counter))"
   ]
  },
  {
   "cell_type": "code",
   "execution_count": 13,
   "metadata": {},
   "outputs": [],
   "source": [
    "# repeat"
   ]
  },
  {
   "cell_type": "code",
   "execution_count": 15,
   "metadata": {},
   "outputs": [
    {
     "name": "stdout",
     "output_type": "stream",
     "text": [
      "2\n",
      "2\n",
      "2\n",
      "2\n"
     ]
    }
   ],
   "source": [
    "# It takes an input and repeats it indefinitely\n",
    "counter = itertools.repeat(2)\n",
    "print(next(counter))\n",
    "print(next(counter))\n",
    "print(next(counter))\n",
    "print(next(counter))"
   ]
  },
  {
   "cell_type": "code",
   "execution_count": 17,
   "metadata": {},
   "outputs": [
    {
     "name": "stdout",
     "output_type": "stream",
     "text": [
      "2\n",
      "2\n",
      "2\n"
     ]
    },
    {
     "ename": "StopIteration",
     "evalue": "",
     "output_type": "error",
     "traceback": [
      "\u001b[0;31m---------------------------------------------------------------------------\u001b[0m",
      "\u001b[0;31mStopIteration\u001b[0m                             Traceback (most recent call last)",
      "\u001b[0;32m<ipython-input-17-a54dd0890fc1>\u001b[0m in \u001b[0;36m<module>\u001b[0;34m\u001b[0m\n\u001b[1;32m      4\u001b[0m \u001b[0mprint\u001b[0m\u001b[0;34m(\u001b[0m\u001b[0mnext\u001b[0m\u001b[0;34m(\u001b[0m\u001b[0mcounter\u001b[0m\u001b[0;34m)\u001b[0m\u001b[0;34m)\u001b[0m\u001b[0;34m\u001b[0m\u001b[0;34m\u001b[0m\u001b[0m\n\u001b[1;32m      5\u001b[0m \u001b[0mprint\u001b[0m\u001b[0;34m(\u001b[0m\u001b[0mnext\u001b[0m\u001b[0;34m(\u001b[0m\u001b[0mcounter\u001b[0m\u001b[0;34m)\u001b[0m\u001b[0;34m)\u001b[0m\u001b[0;34m\u001b[0m\u001b[0;34m\u001b[0m\u001b[0m\n\u001b[0;32m----> 6\u001b[0;31m \u001b[0mprint\u001b[0m\u001b[0;34m(\u001b[0m\u001b[0mnext\u001b[0m\u001b[0;34m(\u001b[0m\u001b[0mcounter\u001b[0m\u001b[0;34m)\u001b[0m\u001b[0;34m)\u001b[0m \u001b[0;31m# it shows error in this statement, bcz we have set times=3, which allows only to loop through them thrice.\u001b[0m\u001b[0;34m\u001b[0m\u001b[0;34m\u001b[0m\u001b[0m\n\u001b[0m",
      "\u001b[0;31mStopIteration\u001b[0m: "
     ]
    }
   ],
   "source": [
    "# It takes an input and repeats it indefinitely\n",
    "counter = itertools.repeat(2, times=3)\n",
    "print(next(counter))\n",
    "print(next(counter))\n",
    "print(next(counter))\n",
    "print(next(counter)) # it shows error in this statement, bcz we have set times=3, which allows only to loop through them thrice."
   ]
  },
  {
   "cell_type": "code",
   "execution_count": 19,
   "metadata": {},
   "outputs": [
    {
     "name": "stdout",
     "output_type": "stream",
     "text": [
      "<map object at 0x7f456c568bd0>\n",
      "[0, 1, 4, 9, 16, 25, 36, 49, 64, 81]\n"
     ]
    }
   ],
   "source": [
    "# use case\n",
    "# map is a function which takes a function and iterables as arguments, the values provided by these iterables are sent into the function as it's arguments\n",
    "squares = map(pow, range(10), itertools.repeat(2)) # map takes values from the 2 iterables and send them into pow function as arguments\n",
    "print(squares) # map returns an iterator too\n",
    "print(list(squares))"
   ]
  },
  {
   "cell_type": "code",
   "execution_count": 20,
   "metadata": {},
   "outputs": [],
   "source": [
    "# starmap"
   ]
  },
  {
   "cell_type": "code",
   "execution_count": 21,
   "metadata": {},
   "outputs": [
    {
     "name": "stdout",
     "output_type": "stream",
     "text": [
      "<itertools.starmap object at 0x7f456c4f2610>\n",
      "[0, 1, 4]\n"
     ]
    }
   ],
   "source": [
    "# similar to map, but instead of taking iterables as arguments it takes arguments that are already paired together as tuples\n",
    "squares = itertools.starmap(pow, [(0, 2), (1, 2), (2, 2)])\n",
    "print(squares)\n",
    "print(list(squares))"
   ]
  },
  {
   "cell_type": "code",
   "execution_count": 22,
   "metadata": {},
   "outputs": [],
   "source": [
    "# combinations"
   ]
  },
  {
   "cell_type": "code",
   "execution_count": 25,
   "metadata": {},
   "outputs": [
    {
     "name": "stdout",
     "output_type": "stream",
     "text": [
      "('a', 'b')\n",
      "('a', 'c')\n",
      "('a', 'd')\n",
      "('b', 'c')\n",
      "('b', 'd')\n",
      "('c', 'd')\n"
     ]
    }
   ],
   "source": [
    "# use case\n",
    "# we can get different combinations of elements from the iterables\n",
    "letters = ['a', 'b', 'c', 'd']\n",
    "results = itertools.combinations(letters, 2) # total number of combinations of 2 elements\n",
    "# for combination - same elements with different orders are also same - order doesn't matter\n",
    "# but for permutations - same elements with different orders are different\n",
    "for i in results:\n",
    "    print(i)"
   ]
  },
  {
   "cell_type": "code",
   "execution_count": null,
   "metadata": {},
   "outputs": [],
   "source": [
    "# permutations"
   ]
  },
  {
   "cell_type": "code",
   "execution_count": 26,
   "metadata": {},
   "outputs": [
    {
     "name": "stdout",
     "output_type": "stream",
     "text": [
      "('a', 'b')\n",
      "('a', 'c')\n",
      "('a', 'd')\n",
      "('b', 'a')\n",
      "('b', 'c')\n",
      "('b', 'd')\n",
      "('c', 'a')\n",
      "('c', 'b')\n",
      "('c', 'd')\n",
      "('d', 'a')\n",
      "('d', 'b')\n",
      "('d', 'c')\n"
     ]
    }
   ],
   "source": [
    "# use case\n",
    "# we can get different permutations of elements in iterables\n",
    "letters = ['a', 'b', 'c', 'd']\n",
    "results = itertools.permutations(letters, 2) # total number of permutations of 2 elements\n",
    "#for permutations - same elements with different orders are different\n",
    "# the arrangement of elements matter\n",
    "for i in results:\n",
    "    print(i)"
   ]
  },
  {
   "cell_type": "code",
   "execution_count": null,
   "metadata": {},
   "outputs": [],
   "source": [
    "# product"
   ]
  },
  {
   "cell_type": "code",
   "execution_count": 30,
   "metadata": {},
   "outputs": [
    {
     "name": "stdout",
     "output_type": "stream",
     "text": [
      "('a', 'a')\n",
      "('a', 'b')\n",
      "('a', 'c')\n",
      "('a', 'd')\n",
      "('b', 'a')\n",
      "('b', 'b')\n",
      "('b', 'c')\n",
      "('b', 'd')\n",
      "('c', 'a')\n",
      "('c', 'b')\n",
      "('c', 'c')\n",
      "('c', 'd')\n",
      "('d', 'a')\n",
      "('d', 'b')\n",
      "('d', 'c')\n",
      "('d', 'd')\n"
     ]
    }
   ],
   "source": [
    "# use case\n",
    "# all the permutations of 2 elements where repeatition is allowed\n",
    "letters = ['a', 'b', 'c', 'd']\n",
    "results = itertools.product(letters, repeat=2)\n",
    "for i in results:\n",
    "    print(i)"
   ]
  },
  {
   "cell_type": "code",
   "execution_count": 31,
   "metadata": {},
   "outputs": [],
   "source": [
    "# combinations_with_replacement"
   ]
  },
  {
   "cell_type": "code",
   "execution_count": 33,
   "metadata": {},
   "outputs": [
    {
     "name": "stdout",
     "output_type": "stream",
     "text": [
      "('a', 'a')\n",
      "('a', 'b')\n",
      "('a', 'c')\n",
      "('a', 'd')\n",
      "('b', 'b')\n",
      "('b', 'c')\n",
      "('b', 'd')\n",
      "('c', 'c')\n",
      "('c', 'd')\n",
      "('d', 'd')\n"
     ]
    }
   ],
   "source": [
    "# all the combinations of 2 elements where repeatition is allowed\n",
    "letters = ['a', 'b', 'c', 'd']\n",
    "results = itertools.combinations_with_replacement(letters, 2)\n",
    "for i in results:\n",
    "    print(i)"
   ]
  },
  {
   "cell_type": "code",
   "execution_count": 34,
   "metadata": {},
   "outputs": [],
   "source": [
    "# chain"
   ]
  },
  {
   "cell_type": "code",
   "execution_count": 77,
   "metadata": {},
   "outputs": [
    {
     "name": "stdout",
     "output_type": "stream",
     "text": [
      "1\n",
      "2\n",
      "3\n",
      "4\n",
      "5\n",
      "6\n",
      "7\n",
      "8\n",
      "9\n"
     ]
    }
   ],
   "source": [
    "# It is kind of appending iterables one by one\n",
    "num1 = [1,2,3]\n",
    "num2 = [4,5,6]\n",
    "num3 = [7,8,9]\n",
    "combined = itertools.chain(num1, num2, num3)\n",
    "for i in combined:\n",
    "    print(i)"
   ]
  },
  {
   "cell_type": "code",
   "execution_count": 36,
   "metadata": {},
   "outputs": [],
   "source": [
    "# iterator slicing - islice"
   ]
  },
  {
   "cell_type": "code",
   "execution_count": 41,
   "metadata": {},
   "outputs": [
    {
     "name": "stdout",
     "output_type": "stream",
     "text": [
      "[5, 6, 7, 8, 9]\n"
     ]
    }
   ],
   "source": [
    "result = itertools.islice(range(5,15), 5) # 2 args, iterable, stopping index\n",
    "print(list(result))"
   ]
  },
  {
   "cell_type": "code",
   "execution_count": 42,
   "metadata": {},
   "outputs": [
    {
     "name": "stdout",
     "output_type": "stream",
     "text": [
      "[6, 7, 8, 9]\n"
     ]
    }
   ],
   "source": [
    "result = itertools.islice(range(5,15), 1, 5) # 3 args, iterable, starting index, stopping index\n",
    "print(list(result))"
   ]
  },
  {
   "cell_type": "code",
   "execution_count": 43,
   "metadata": {},
   "outputs": [
    {
     "name": "stdout",
     "output_type": "stream",
     "text": [
      "[6, 8]\n"
     ]
    }
   ],
   "source": [
    "result = itertools.islice(range(5,15), 1, 5, 2) # 3 args, iterable, starting index, stopping index, step value\n",
    "print(list(result))"
   ]
  },
  {
   "cell_type": "code",
   "execution_count": 45,
   "metadata": {},
   "outputs": [
    {
     "name": "stdout",
     "output_type": "stream",
     "text": [
      "This man deserves a knighthood.\n",
      "In the name of the Warrior I charge you Ser Corey Schafer to be brave.\n",
      "In the name of the Father I charge you to be just.\n"
     ]
    }
   ],
   "source": [
    "# Use case\n",
    "# files are iterables themselves\n",
    "with open('test.txt', 'r') as f:\n",
    "    headers = itertools.islice(f, 3) # this iterates lines one by one, It grabs first 3 lines\n",
    "    for i in headers:\n",
    "        print(i, end='')"
   ]
  },
  {
   "cell_type": "code",
   "execution_count": 46,
   "metadata": {},
   "outputs": [],
   "source": [
    "# compress"
   ]
  },
  {
   "cell_type": "code",
   "execution_count": 48,
   "metadata": {},
   "outputs": [
    {
     "name": "stdout",
     "output_type": "stream",
     "text": [
      "['a', 'b', 'd']\n"
     ]
    }
   ],
   "source": [
    "# it's kinda filter data using selectors\n",
    "selector = [True, True, False, True]\n",
    "letters = ['a', 'b', 'c', 'd']\n",
    "result = itertools.compress(letters, selector) # 2arguments, data, boolean list\n",
    "print(list(result))"
   ]
  },
  {
   "cell_type": "code",
   "execution_count": 49,
   "metadata": {},
   "outputs": [],
   "source": [
    "# filter - it is inbuilt python function not a itertool function"
   ]
  },
  {
   "cell_type": "code",
   "execution_count": 51,
   "metadata": {},
   "outputs": [
    {
     "name": "stdout",
     "output_type": "stream",
     "text": [
      "[0, 1, 2]\n"
     ]
    }
   ],
   "source": [
    "#use case\n",
    "def filter_fun(n):\n",
    "    if n<=2:\n",
    "        return True\n",
    "    return False\n",
    "\n",
    "numbers = [0,1,2,3,4]\n",
    "\n",
    "result = filter(filter_fun, numbers)\n",
    "print(list(result))"
   ]
  },
  {
   "cell_type": "code",
   "execution_count": 52,
   "metadata": {},
   "outputs": [],
   "source": [
    "# dropwhile"
   ]
  },
  {
   "cell_type": "code",
   "execution_count": 53,
   "metadata": {},
   "outputs": [
    {
     "name": "stdout",
     "output_type": "stream",
     "text": [
      "[3, 4, 2, 1, 0]\n"
     ]
    }
   ],
   "source": [
    "def filter_fun(n):\n",
    "    if n<=2:\n",
    "        return True\n",
    "    return False\n",
    "\n",
    "numbers = [0,1,2,3,4, 2, 1, 0]\n",
    "\n",
    "result = itertools.dropwhile(filter_fun, numbers)\n",
    "print(list(result))\n",
    "# it stops filtering when it recieves false and accumulates all the next elements as outputs"
   ]
  },
  {
   "cell_type": "code",
   "execution_count": 54,
   "metadata": {},
   "outputs": [],
   "source": [
    "# takewhile"
   ]
  },
  {
   "cell_type": "code",
   "execution_count": 55,
   "metadata": {},
   "outputs": [
    {
     "name": "stdout",
     "output_type": "stream",
     "text": [
      "[0, 1, 2]\n"
     ]
    }
   ],
   "source": [
    "def filter_fun(n):\n",
    "    if n<=2:\n",
    "        return True\n",
    "    return False\n",
    "\n",
    "numbers = [0,1,2,3,4, 2, 1, 0]\n",
    "\n",
    "result = itertools.takewhile(filter_fun, numbers)\n",
    "print(list(result))\n",
    "# opposite of dropwhile"
   ]
  },
  {
   "cell_type": "code",
   "execution_count": 56,
   "metadata": {},
   "outputs": [],
   "source": [
    "# accumulate"
   ]
  },
  {
   "cell_type": "code",
   "execution_count": 57,
   "metadata": {},
   "outputs": [
    {
     "name": "stdout",
     "output_type": "stream",
     "text": [
      "[1, 3, 6, 10, 15, 21, 28]\n"
     ]
    }
   ],
   "source": [
    "# this takes an iterable as input and finds cumulative sum whenevr it recieves a value from the iterable\n",
    "numbers = [1,2,3,4,5,6,7]\n",
    "cumulative = itertools.accumulate(numbers) # 1arg, iterable\n",
    "print(list(cumulative))"
   ]
  },
  {
   "cell_type": "code",
   "execution_count": 58,
   "metadata": {},
   "outputs": [
    {
     "name": "stdout",
     "output_type": "stream",
     "text": [
      "[1, 2, 6, 24, 120, 720, 5040]\n"
     ]
    }
   ],
   "source": [
    "# instead of using addition operation to find cumulative let's use different operator\n",
    "import operator\n",
    "cumulative = itertools.accumulate(numbers, operator.mul) # 2args, iterable, operator - operator.mul indicates multiplication\n",
    "print(list(cumulative))"
   ]
  },
  {
   "cell_type": "code",
   "execution_count": 59,
   "metadata": {},
   "outputs": [],
   "source": [
    "# groupby"
   ]
  },
  {
   "cell_type": "code",
   "execution_count": 60,
   "metadata": {},
   "outputs": [],
   "source": [
    "# it will go through an iterable and group values based on a key and then it will return a stream of tuples, \n",
    "# these tuples contain the key these items were grouped on, \n",
    "# and the sencond item is an iterable that contains all the values that are grouped"
   ]
  },
  {
   "cell_type": "code",
   "execution_count": 61,
   "metadata": {},
   "outputs": [],
   "source": [
    "# data\n",
    "people = [\n",
    "    {\n",
    "        'name': 'John Doe',\n",
    "        'city': 'Gotham',\n",
    "        'state': 'NY'\n",
    "    },\n",
    "    {\n",
    "        'name': 'Jane Doe',\n",
    "        'city': 'Kings Landing',\n",
    "        'state': 'NY'\n",
    "    },\n",
    "    {\n",
    "        'name': 'Corey Schafer',\n",
    "        'city': 'Boulder',\n",
    "        'state': 'CO'\n",
    "    },\n",
    "    {\n",
    "        'name': 'Al Einstein',\n",
    "        'city': 'Denver',\n",
    "        'state': 'CO'\n",
    "    },\n",
    "    {\n",
    "        'name': 'John Henry',\n",
    "        'city': 'Hinton',\n",
    "        'state': 'WV'\n",
    "    },\n",
    "    {\n",
    "        'name': 'Randy Moss',\n",
    "        'city': 'Rand',\n",
    "        'state': 'WV'\n",
    "    },\n",
    "    {\n",
    "        'name': 'Nicole K',\n",
    "        'city': 'Asheville',\n",
    "        'state': 'NC'\n",
    "    },\n",
    "    {\n",
    "        'name': 'Jim Doe',\n",
    "        'city': 'Charlotte',\n",
    "        'state': 'NC'\n",
    "    },\n",
    "    {\n",
    "        'name': 'Jane Taylor',\n",
    "        'city': 'Faketown',\n",
    "        'state': 'NC'\n",
    "    }\n",
    "]"
   ]
  },
  {
   "cell_type": "code",
   "execution_count": 62,
   "metadata": {},
   "outputs": [],
   "source": [
    "# we need to write a function that tells our groupby function which tells exactly what we need to group on\n",
    "# This function is our key\n",
    "def get_state(person):\n",
    "    return person['state']"
   ]
  },
  {
   "cell_type": "code",
   "execution_count": 67,
   "metadata": {},
   "outputs": [
    {
     "name": "stdout",
     "output_type": "stream",
     "text": [
      "[('NY', <itertools._grouper object at 0x7f456c55f810>), ('CO', <itertools._grouper object at 0x7f456c55ffd0>), ('WV', <itertools._grouper object at 0x7f456c55fb10>), ('NC', <itertools._grouper object at 0x7f456c55ff10>)]\n"
     ]
    }
   ],
   "source": [
    "target = itertools.groupby(people, get_state) # 2 args, iterable, key\n",
    "print(list(target))"
   ]
  },
  {
   "cell_type": "code",
   "execution_count": 85,
   "metadata": {},
   "outputs": [
    {
     "name": "stdout",
     "output_type": "stream",
     "text": [
      "key:  NY\n",
      "value: {'name': 'John Doe', 'city': 'Gotham', 'state': 'NY'}\n",
      "value: {'name': 'Jane Doe', 'city': 'Kings Landing', 'state': 'NY'}\n",
      "\n",
      "key:  CO\n",
      "value: {'name': 'Corey Schafer', 'city': 'Boulder', 'state': 'CO'}\n",
      "value: {'name': 'Al Einstein', 'city': 'Denver', 'state': 'CO'}\n",
      "\n",
      "key:  WV\n",
      "value: {'name': 'John Henry', 'city': 'Hinton', 'state': 'WV'}\n",
      "value: {'name': 'Randy Moss', 'city': 'Rand', 'state': 'WV'}\n",
      "\n",
      "key:  NC\n",
      "value: {'name': 'Nicole K', 'city': 'Asheville', 'state': 'NC'}\n",
      "value: {'name': 'Jim Doe', 'city': 'Charlotte', 'state': 'NC'}\n",
      "value: {'name': 'Jane Taylor', 'city': 'Faketown', 'state': 'NC'}\n",
      "\n"
     ]
    }
   ],
   "source": [
    "target = itertools.groupby(people, get_state)\n",
    "for key,group in target:\n",
    "    print('key: ', key)\n",
    "    for i in group:\n",
    "        print('value:', i)\n",
    "    print()\n",
    "# groupby needs it's data to be sorted, in the people list you can see dictionary is sorted by state values"
   ]
  },
  {
   "cell_type": "code",
   "execution_count": 109,
   "metadata": {},
   "outputs": [],
   "source": [
    "# Make copies of iterables\n",
    "# whenever if we simply try to assign a iterable to a variable we are just assigning the address of the iterable to it\n",
    "# so when we make any changes to this variable, it affects the original iterable too\n",
    "# we use tee function to make multiple copies\n",
    "# when we made copies we should not use the original iterable again, we should start using the copies\n",
    "target = itertools.accumulate(numbers)\n",
    "copy1, copy2 = itertools.tee(target, 2)"
   ]
  },
  {
   "cell_type": "code",
   "execution_count": 110,
   "metadata": {},
   "outputs": [
    {
     "name": "stdout",
     "output_type": "stream",
     "text": [
      "[1, 3, 6, 10, 15, 21, 28]\n"
     ]
    }
   ],
   "source": [
    "print(list(copy1))"
   ]
  },
  {
   "cell_type": "code",
   "execution_count": 111,
   "metadata": {},
   "outputs": [
    {
     "name": "stdout",
     "output_type": "stream",
     "text": [
      "[1, 3, 6, 10, 15, 21, 28]\n"
     ]
    }
   ],
   "source": [
    "print(list(copy2))"
   ]
  },
  {
   "cell_type": "code",
   "execution_count": 112,
   "metadata": {},
   "outputs": [
    {
     "name": "stdout",
     "output_type": "stream",
     "text": [
      "[]\n"
     ]
    }
   ],
   "source": [
    "print(list(target))"
   ]
  },
  {
   "cell_type": "code",
   "execution_count": 113,
   "metadata": {},
   "outputs": [],
   "source": [
    "# Some of the intricacies we need to mind while using iterables"
   ]
  },
  {
   "cell_type": "code",
   "execution_count": 114,
   "metadata": {},
   "outputs": [
    {
     "name": "stdout",
     "output_type": "stream",
     "text": [
      "1\n",
      "2\n",
      "3\n",
      "4\n",
      "5\n",
      "6\n",
      "7\n",
      "8\n",
      "9\n"
     ]
    }
   ],
   "source": [
    "# Iterables once exhausted cannot be used again until it's initialised again\n",
    "combined = itertools.chain(num1, num2, num3)\n",
    "for i in combined:\n",
    "    print(i)"
   ]
  },
  {
   "cell_type": "code",
   "execution_count": 115,
   "metadata": {},
   "outputs": [],
   "source": [
    "for i in combined:\n",
    "    print(i)\n",
    "# as you can see there is no output here"
   ]
  },
  {
   "cell_type": "code",
   "execution_count": 116,
   "metadata": {},
   "outputs": [
    {
     "name": "stdout",
     "output_type": "stream",
     "text": [
      "[1, 2, 3, 4, 5, 6, 7, 8, 9]\n"
     ]
    }
   ],
   "source": [
    "# the same shit happens when it's type casted too\n",
    "combined = itertools.chain(num1, num2, num3)\n",
    "print(list(combined))"
   ]
  },
  {
   "cell_type": "code",
   "execution_count": 117,
   "metadata": {},
   "outputs": [
    {
     "name": "stdout",
     "output_type": "stream",
     "text": [
      "[]\n"
     ]
    }
   ],
   "source": [
    "print(list(combined))\n",
    "# no output"
   ]
  },
  {
   "cell_type": "code",
   "execution_count": 118,
   "metadata": {},
   "outputs": [],
   "source": [
    "# We need to be careful while copying iterables that contain iterables like groupby object\n",
    "# It may behave ridiculously while running"
   ]
  },
  {
   "cell_type": "code",
   "execution_count": null,
   "metadata": {},
   "outputs": [],
   "source": []
  }
 ],
 "metadata": {
  "kernelspec": {
   "display_name": "Python 3",
   "language": "python",
   "name": "python3"
  },
  "language_info": {
   "codemirror_mode": {
    "name": "ipython",
    "version": 3
   },
   "file_extension": ".py",
   "mimetype": "text/x-python",
   "name": "python",
   "nbconvert_exporter": "python",
   "pygments_lexer": "ipython3",
   "version": "3.7.7"
  }
 },
 "nbformat": 4,
 "nbformat_minor": 4
}
