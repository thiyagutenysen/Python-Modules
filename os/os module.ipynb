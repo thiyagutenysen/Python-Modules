{
 "cells": [
  {
   "cell_type": "code",
   "execution_count": 1,
   "metadata": {},
   "outputs": [],
   "source": [
    "import os"
   ]
  },
  {
   "cell_type": "code",
   "execution_count": 2,
   "metadata": {},
   "outputs": [
    {
     "name": "stdout",
     "output_type": "stream",
     "text": [
      "['CLD_CONTINUED', 'CLD_DUMPED', 'CLD_EXITED', 'CLD_TRAPPED', 'DirEntry', 'EX_CANTCREAT', 'EX_CONFIG', 'EX_DATAERR', 'EX_IOERR', 'EX_NOHOST', 'EX_NOINPUT', 'EX_NOPERM', 'EX_NOUSER', 'EX_OK', 'EX_OSERR', 'EX_OSFILE', 'EX_PROTOCOL', 'EX_SOFTWARE', 'EX_TEMPFAIL', 'EX_UNAVAILABLE', 'EX_USAGE', 'F_LOCK', 'F_OK', 'F_TEST', 'F_TLOCK', 'F_ULOCK', 'MutableMapping', 'NGROUPS_MAX', 'O_ACCMODE', 'O_APPEND', 'O_ASYNC', 'O_CLOEXEC', 'O_CREAT', 'O_DIRECT', 'O_DIRECTORY', 'O_DSYNC', 'O_EXCL', 'O_LARGEFILE', 'O_NDELAY', 'O_NOATIME', 'O_NOCTTY', 'O_NOFOLLOW', 'O_NONBLOCK', 'O_RDONLY', 'O_RDWR', 'O_RSYNC', 'O_SYNC', 'O_TRUNC', 'O_WRONLY', 'POSIX_FADV_DONTNEED', 'POSIX_FADV_NOREUSE', 'POSIX_FADV_NORMAL', 'POSIX_FADV_RANDOM', 'POSIX_FADV_SEQUENTIAL', 'POSIX_FADV_WILLNEED', 'PRIO_PGRP', 'PRIO_PROCESS', 'PRIO_USER', 'P_ALL', 'P_NOWAIT', 'P_NOWAITO', 'P_PGID', 'P_PID', 'P_WAIT', 'PathLike', 'RTLD_DEEPBIND', 'RTLD_GLOBAL', 'RTLD_LAZY', 'RTLD_LOCAL', 'RTLD_NODELETE', 'RTLD_NOLOAD', 'RTLD_NOW', 'R_OK', 'SCHED_BATCH', 'SCHED_FIFO', 'SCHED_IDLE', 'SCHED_OTHER', 'SCHED_RESET_ON_FORK', 'SCHED_RR', 'SEEK_CUR', 'SEEK_END', 'SEEK_SET', 'ST_APPEND', 'ST_MANDLOCK', 'ST_NOATIME', 'ST_NODEV', 'ST_NODIRATIME', 'ST_NOEXEC', 'ST_NOSUID', 'ST_RDONLY', 'ST_RELATIME', 'ST_SYNCHRONOUS', 'ST_WRITE', 'TMP_MAX', 'WCONTINUED', 'WCOREDUMP', 'WEXITED', 'WEXITSTATUS', 'WIFCONTINUED', 'WIFEXITED', 'WIFSIGNALED', 'WIFSTOPPED', 'WNOHANG', 'WNOWAIT', 'WSTOPPED', 'WSTOPSIG', 'WTERMSIG', 'WUNTRACED', 'W_OK', 'XATTR_CREATE', 'XATTR_REPLACE', 'XATTR_SIZE_MAX', 'X_OK', '_Environ', '__all__', '__builtins__', '__cached__', '__doc__', '__file__', '__loader__', '__name__', '__package__', '__spec__', '_check_methods', '_execvpe', '_exists', '_exit', '_fspath', '_fwalk', '_get_exports_list', '_putenv', '_spawnvef', '_unsetenv', '_wrap_close', 'abc', 'abort', 'access', 'altsep', 'chdir', 'chmod', 'chown', 'chroot', 'close', 'closerange', 'confstr', 'confstr_names', 'cpu_count', 'ctermid', 'curdir', 'defpath', 'device_encoding', 'devnull', 'dup', 'dup2', 'environ', 'environb', 'error', 'execl', 'execle', 'execlp', 'execlpe', 'execv', 'execve', 'execvp', 'execvpe', 'extsep', 'fchdir', 'fchmod', 'fchown', 'fdatasync', 'fdopen', 'fork', 'forkpty', 'fpathconf', 'fsdecode', 'fsencode', 'fspath', 'fstat', 'fstatvfs', 'fsync', 'ftruncate', 'fwalk', 'get_blocking', 'get_exec_path', 'get_inheritable', 'get_terminal_size', 'getcwd', 'getcwdb', 'getegid', 'getenv', 'getenvb', 'geteuid', 'getgid', 'getgrouplist', 'getgroups', 'getloadavg', 'getlogin', 'getpgid', 'getpgrp', 'getpid', 'getppid', 'getpriority', 'getresgid', 'getresuid', 'getsid', 'getuid', 'getxattr', 'initgroups', 'isatty', 'kill', 'killpg', 'lchown', 'linesep', 'link', 'listdir', 'listxattr', 'lockf', 'lseek', 'lstat', 'major', 'makedev', 'makedirs', 'minor', 'mkdir', 'mkfifo', 'mknod', 'name', 'nice', 'open', 'openpty', 'pardir', 'path', 'pathconf', 'pathconf_names', 'pathsep', 'pipe', 'pipe2', 'popen', 'posix_fadvise', 'posix_fallocate', 'pread', 'preadv', 'putenv', 'pwrite', 'pwritev', 'read', 'readlink', 'readv', 'register_at_fork', 'remove', 'removedirs', 'removexattr', 'rename', 'renames', 'replace', 'rmdir', 'scandir', 'sched_get_priority_max', 'sched_get_priority_min', 'sched_getaffinity', 'sched_getparam', 'sched_getscheduler', 'sched_param', 'sched_rr_get_interval', 'sched_setaffinity', 'sched_setparam', 'sched_setscheduler', 'sched_yield', 'sendfile', 'sep', 'set_blocking', 'set_inheritable', 'setegid', 'seteuid', 'setgid', 'setgroups', 'setpgid', 'setpgrp', 'setpriority', 'setregid', 'setresgid', 'setresuid', 'setreuid', 'setsid', 'setuid', 'setxattr', 'spawnl', 'spawnle', 'spawnlp', 'spawnlpe', 'spawnv', 'spawnve', 'spawnvp', 'spawnvpe', 'st', 'stat', 'stat_result', 'statvfs', 'statvfs_result', 'strerror', 'supports_bytes_environ', 'supports_dir_fd', 'supports_effective_ids', 'supports_fd', 'supports_follow_symlinks', 'symlink', 'sync', 'sys', 'sysconf', 'sysconf_names', 'system', 'tcgetpgrp', 'tcsetpgrp', 'terminal_size', 'times', 'times_result', 'truncate', 'ttyname', 'umask', 'uname', 'uname_result', 'unlink', 'unsetenv', 'urandom', 'utime', 'wait', 'wait3', 'wait4', 'waitid', 'waitid_result', 'waitpid', 'walk', 'write', 'writev']\n"
     ]
    }
   ],
   "source": [
    "# Trick to see all the attributes and methods of any module\n",
    "print(dir(os))"
   ]
  },
  {
   "cell_type": "code",
   "execution_count": 4,
   "metadata": {},
   "outputs": [
    {
     "name": "stdout",
     "output_type": "stream",
     "text": [
      "/home/chella/Desktop/Coding/Python Mini Modules/os\n"
     ]
    }
   ],
   "source": [
    "# get current working directory name\n",
    "# current folder name\n",
    "print(os.getcwd())"
   ]
  },
  {
   "cell_type": "code",
   "execution_count": 5,
   "metadata": {},
   "outputs": [
    {
     "name": "stdout",
     "output_type": "stream",
     "text": [
      "/home/chella/Desktop\n"
     ]
    }
   ],
   "source": [
    "# go to different directory\n",
    "path = '/home/chella/Desktop'\n",
    "os.chdir(path) # chdir - change directory\n",
    "print(os.getcwd())"
   ]
  },
  {
   "cell_type": "code",
   "execution_count": 6,
   "metadata": {},
   "outputs": [
    {
     "name": "stdout",
     "output_type": "stream",
     "text": [
      "['Deep Learning sem7 Course', 'tensorflow.ipynb', 'chella thiyagarajan.jpg', 'ME17B179_ED6001_Term_Paper.zip', 'astro-analytics-techsoc-iitm', 'Coding', 'Typing Class', 'ME17B179_ED6001_Term_Paper', '.ipynb_checkpoints', 'Assignment-medical', 'Robotics', 'medical assignment notes', 'Data Analysis', 'Autonomous Indoor Drone']\n"
     ]
    }
   ],
   "source": [
    "# look at what are the files and folders present in our current directory\n",
    "print(os.listdir())"
   ]
  },
  {
   "cell_type": "code",
   "execution_count": 17,
   "metadata": {},
   "outputs": [
    {
     "name": "stdout",
     "output_type": "stream",
     "text": [
      "['Deep Learning sem7 Course', 'tensorflow.ipynb', 'chella thiyagarajan.jpg', 'ME17B179_ED6001_Term_Paper.zip', 'os-demo-1', 'astro-analytics-techsoc-iitm', 'os-demo-2', 'Coding', 'Typing Class', 'ME17B179_ED6001_Term_Paper', '.ipynb_checkpoints', 'Assignment-medical', 'Robotics', 'medical assignment notes', 'Data Analysis', 'Autonomous Indoor Drone']\n"
     ]
    }
   ],
   "source": [
    "# create folder or directory part 1\n",
    "folder_name = 'os-demo-1'\n",
    "os.mkdir(folder_name)\n",
    "print(os.listdir())\n",
    "# the con of this method is it won't be able to create multilevel directories"
   ]
  },
  {
   "cell_type": "code",
   "execution_count": 18,
   "metadata": {},
   "outputs": [
    {
     "name": "stdout",
     "output_type": "stream",
     "text": [
      "['Deep Learning sem7 Course', 'tensorflow.ipynb', 'chella thiyagarajan.jpg', 'ME17B179_ED6001_Term_Paper.zip', 'os-demo-1', 'astro-analytics-techsoc-iitm', 'os-demo-2', 'Coding', 'Typing Class', 'ME17B179_ED6001_Term_Paper', '.ipynb_checkpoints', 'Assignment-medical', 'Robotics', 'medical assignment notes', 'Data Analysis', 'Autonomous Indoor Drone']\n"
     ]
    }
   ],
   "source": [
    "# create folder or directory part 2\n",
    "folder_name = 'os-demo-2/sub_folder'\n",
    "os.makedirs(folder_name)\n",
    "# makedirs will be able to create a folder and it's subfolders to, it can make multilevel folders\n",
    "print(os.listdir())"
   ]
  },
  {
   "cell_type": "code",
   "execution_count": 19,
   "metadata": {},
   "outputs": [
    {
     "name": "stdout",
     "output_type": "stream",
     "text": [
      "['sub_folder']\n"
     ]
    }
   ],
   "source": [
    "os.chdir('os-demo-2')\n",
    "print(os.listdir())"
   ]
  },
  {
   "cell_type": "code",
   "execution_count": 20,
   "metadata": {},
   "outputs": [
    {
     "name": "stdout",
     "output_type": "stream",
     "text": [
      "/home/chella/Desktop\n"
     ]
    }
   ],
   "source": [
    "# move to previous parent folder\n",
    "os.chdir('..')\n",
    "print(os.getcwd())"
   ]
  },
  {
   "cell_type": "code",
   "execution_count": 21,
   "metadata": {},
   "outputs": [
    {
     "name": "stdout",
     "output_type": "stream",
     "text": [
      "['Deep Learning sem7 Course', 'tensorflow.ipynb', 'chella thiyagarajan.jpg', 'ME17B179_ED6001_Term_Paper.zip', 'astro-analytics-techsoc-iitm', 'os-demo-2', 'Coding', 'Typing Class', 'ME17B179_ED6001_Term_Paper', '.ipynb_checkpoints', 'Assignment-medical', 'Robotics', 'medical assignment notes', 'Data Analysis', 'Autonomous Indoor Drone']\n"
     ]
    }
   ],
   "source": [
    "# remove folder or directory part 1\n",
    "folder_name = 'os-demo-1'\n",
    "os.rmdir(folder_name)\n",
    "print(os.listdir())\n",
    "# the con of this method is it won't be able to remove multilevel directories\n",
    "# to use this method the directory must be empty"
   ]
  },
  {
   "cell_type": "code",
   "execution_count": 22,
   "metadata": {},
   "outputs": [
    {
     "ename": "OSError",
     "evalue": "[Errno 39] Directory not empty: 'os-demo-2'",
     "output_type": "error",
     "traceback": [
      "\u001b[0;31m---------------------------------------------------------------------------\u001b[0m",
      "\u001b[0;31mOSError\u001b[0m                                   Traceback (most recent call last)",
      "\u001b[0;32m<ipython-input-22-2587b8cdda11>\u001b[0m in \u001b[0;36m<module>\u001b[0;34m\u001b[0m\n\u001b[0;32m----> 1\u001b[0;31m \u001b[0mos\u001b[0m\u001b[0;34m.\u001b[0m\u001b[0mrmdir\u001b[0m\u001b[0;34m(\u001b[0m\u001b[0;34m'os-demo-2'\u001b[0m\u001b[0;34m)\u001b[0m\u001b[0;34m\u001b[0m\u001b[0;34m\u001b[0m\u001b[0m\n\u001b[0m",
      "\u001b[0;31mOSError\u001b[0m: [Errno 39] Directory not empty: 'os-demo-2'"
     ]
    }
   ],
   "source": [
    "os.rmdir('os-demo-2')"
   ]
  },
  {
   "cell_type": "code",
   "execution_count": 23,
   "metadata": {},
   "outputs": [
    {
     "name": "stdout",
     "output_type": "stream",
     "text": [
      "['Deep Learning sem7 Course', 'tensorflow.ipynb', 'chella thiyagarajan.jpg', 'ME17B179_ED6001_Term_Paper.zip', 'astro-analytics-techsoc-iitm', 'Coding', 'Typing Class', 'ME17B179_ED6001_Term_Paper', '.ipynb_checkpoints', 'Assignment-medical', 'Robotics', 'medical assignment notes', 'Data Analysis', 'Autonomous Indoor Drone']\n"
     ]
    }
   ],
   "source": [
    "# remove folder or directory part 2\n",
    "folder_name = 'os-demo-2/sub_folder'\n",
    "os.removedirs(folder_name)\n",
    "# removedirs will be able to delete both subfolder and os-demo-2 folder at once\n",
    "print(os.listdir())\n",
    "# this method also works ony when the target directory is empty"
   ]
  },
  {
   "cell_type": "code",
   "execution_count": 25,
   "metadata": {},
   "outputs": [
    {
     "name": "stdout",
     "output_type": "stream",
     "text": [
      "befor renaming ['chella']\n",
      "after renaming ['chellz']\n"
     ]
    }
   ],
   "source": [
    "os.makedirs('os-demo/chella')\n",
    "os.chdir('os-demo')\n",
    "print('befor renaming',os.listdir())\n",
    "\n",
    "# rename our directory or file\n",
    "os.rename('chella', 'chellz') # 2 args, current-name, new-name\n",
    "print('after renaming', os.listdir())"
   ]
  },
  {
   "cell_type": "code",
   "execution_count": 28,
   "metadata": {},
   "outputs": [
    {
     "name": "stdout",
     "output_type": "stream",
     "text": [
      "os.stat_result(st_mode=33188, st_ino=1583404, st_dev=2056, st_nlink=1, st_uid=1000, st_gid=1000, st_size=107, st_atime=1605265609, st_mtime=1600794032, st_ctime=1600794032)\n"
     ]
    }
   ],
   "source": [
    "os.chdir(path)\n",
    "\n",
    "# get more details about a file\n",
    "print(os.stat('medical assignment notes'))"
   ]
  },
  {
   "cell_type": "code",
   "execution_count": 29,
   "metadata": {},
   "outputs": [
    {
     "name": "stdout",
     "output_type": "stream",
     "text": [
      "107\n"
     ]
    }
   ],
   "source": [
    "# get file size in bytes\n",
    "print(os.stat('medical assignment notes').st_size)"
   ]
  },
  {
   "cell_type": "code",
   "execution_count": 30,
   "metadata": {},
   "outputs": [
    {
     "name": "stdout",
     "output_type": "stream",
     "text": [
      "2020-09-22 22:30:32.522794\n"
     ]
    }
   ],
   "source": [
    "# get last modified time\n",
    "from datetime import datetime\n",
    "timestamp = os.stat('medical assignment notes').st_mtime\n",
    "print(datetime.fromtimestamp(timestamp))"
   ]
  },
  {
   "cell_type": "code",
   "execution_count": 34,
   "metadata": {},
   "outputs": [
    {
     "data": {
      "text/plain": [
       "<generator object walk at 0x7f1688666b50>"
      ]
     },
     "execution_count": 34,
     "metadata": {},
     "output_type": "execute_result"
    }
   ],
   "source": [
    "# get the whole tree structure starting from the given directory\n",
    "os.walk(os.getcwd())"
   ]
  },
  {
   "cell_type": "code",
   "execution_count": 39,
   "metadata": {},
   "outputs": [
    {
     "name": "stdout",
     "output_type": "stream",
     "text": [
      "Current Path:  /home/chella/Desktop/ME17B179_ED6001_Term_Paper/\n",
      "Directories in current path:  ['Code files']\n",
      "Files in current path:  ['ME17B179_ED6001_Term_Paper.pdf']\n",
      "\n",
      "Current Path:  /home/chella/Desktop/ME17B179_ED6001_Term_Paper/Code files\n",
      "Directories in current path:  []\n",
      "Files in current path:  ['Adaptive Threshold implementation.ipynb', 'UNet_Model2_Cup.ipynb', 'UNet_Model2_Disk.ipynb', 'UNet_Model1_Cup.ipynb', 'UNet_Model1_Disk.ipynb']\n",
      "\n"
     ]
    }
   ],
   "source": [
    "for curr_dir_path, dir_names, file_names in os.walk(os.getcwd()+'/ME17B179_ED6001_Term_Paper/'):\n",
    "    print('Current Path: ', curr_dir_path)\n",
    "    print('Directories in current path: ', dir_names)\n",
    "    print('Files in current path: ', file_names)\n",
    "    print()"
   ]
  },
  {
   "cell_type": "code",
   "execution_count": 40,
   "metadata": {},
   "outputs": [
    {
     "data": {
      "text/plain": [
       "'/home/chella'"
      ]
     },
     "execution_count": 40,
     "metadata": {},
     "output_type": "execute_result"
    }
   ],
   "source": [
    "# access my environment variable\n",
    "# get home directory\n",
    "os.environ.get('HOME')"
   ]
  },
  {
   "cell_type": "code",
   "execution_count": 41,
   "metadata": {},
   "outputs": [
    {
     "name": "stdout",
     "output_type": "stream",
     "text": [
      "concatenation method:  /home/chella/something.txt\n",
      "os.path.join method:  /home/chella/something.txt\n"
     ]
    }
   ],
   "source": [
    "# join file paths\n",
    "new_file = 'something.txt'\n",
    "\n",
    "# method 1 - concatenation\n",
    "file_path = os.environ.get('HOME') + '/' + new_file\n",
    "print('concatenation method: ', file_path)\n",
    "\n",
    "# method 2 - using os.path\n",
    "file_path = os.path.join(os.environ.get('HOME'), new_file)\n",
    "print('os.path.join method: ', file_path)"
   ]
  },
  {
   "cell_type": "code",
   "execution_count": 44,
   "metadata": {},
   "outputs": [
    {
     "data": {
      "text/plain": [
       "'file.txt'"
      ]
     },
     "execution_count": 44,
     "metadata": {},
     "output_type": "execute_result"
    }
   ],
   "source": [
    "# get the file-name from the path url\n",
    "os.path.basename('home/temp/file.txt')"
   ]
  },
  {
   "cell_type": "code",
   "execution_count": 45,
   "metadata": {},
   "outputs": [
    {
     "data": {
      "text/plain": [
       "'home/temp'"
      ]
     },
     "execution_count": 45,
     "metadata": {},
     "output_type": "execute_result"
    }
   ],
   "source": [
    "# get the parent-directory path of the file path url\n",
    "os.path.dirname('home/temp/file.txt')"
   ]
  },
  {
   "cell_type": "code",
   "execution_count": 46,
   "metadata": {},
   "outputs": [
    {
     "data": {
      "text/plain": [
       "('home/temp', 'file.txt')"
      ]
     },
     "execution_count": 46,
     "metadata": {},
     "output_type": "execute_result"
    }
   ],
   "source": [
    "# get the file-name and parent-directory-path as a tuple from the path url\n",
    "os.path.split('home/temp/file.txt')\n",
    "# tuple: (parent-dir-name, file-name)"
   ]
  },
  {
   "cell_type": "code",
   "execution_count": 47,
   "metadata": {},
   "outputs": [
    {
     "data": {
      "text/plain": [
       "False"
      ]
     },
     "execution_count": 47,
     "metadata": {},
     "output_type": "execute_result"
    }
   ],
   "source": [
    "# check whether a file or dir or a path exist\n",
    "os.path.exists('home/temp/file.txt')"
   ]
  },
  {
   "cell_type": "code",
   "execution_count": 53,
   "metadata": {},
   "outputs": [
    {
     "name": "stdout",
     "output_type": "stream",
     "text": [
      "check for directory:  True\n",
      "check for file:  False\n"
     ]
    }
   ],
   "source": [
    "# check whether a path point to a directory or a file\n",
    "print('check for directory: ', os.path.isdir('Coding'))\n",
    "print('check for file: ', os.path.isfile('Coding'))"
   ]
  },
  {
   "cell_type": "code",
   "execution_count": 56,
   "metadata": {},
   "outputs": [
    {
     "data": {
      "text/plain": [
       "('home/temp/file', '.ipynb')"
      ]
     },
     "execution_count": 56,
     "metadata": {},
     "output_type": "execute_result"
    }
   ],
   "source": [
    "# get root of the file and it's extension separately\n",
    "# this can be used to extract file extensions\n",
    "os.path.splitext('home/temp/file.ipynb')"
   ]
  },
  {
   "cell_type": "code",
   "execution_count": 62,
   "metadata": {},
   "outputs": [
    {
     "data": {
      "text/plain": [
       "27557000"
      ]
     },
     "execution_count": 62,
     "metadata": {},
     "output_type": "execute_result"
    }
   ],
   "source": [
    "# get file size\n",
    "os.path.getsize('Coding/CV/eric is a god.mp4')\n",
    "# this method doesn't work for directories"
   ]
  },
  {
   "cell_type": "code",
   "execution_count": 58,
   "metadata": {},
   "outputs": [
    {
     "name": "stdout",
     "output_type": "stream",
     "text": [
      "['__all__', '__builtins__', '__cached__', '__doc__', '__file__', '__loader__', '__name__', '__package__', '__spec__', '_get_sep', '_joinrealpath', '_varprog', '_varprogb', 'abspath', 'altsep', 'basename', 'commonpath', 'commonprefix', 'curdir', 'defpath', 'devnull', 'dirname', 'exists', 'expanduser', 'expandvars', 'extsep', 'genericpath', 'getatime', 'getctime', 'getmtime', 'getsize', 'isabs', 'isdir', 'isfile', 'islink', 'ismount', 'join', 'lexists', 'normcase', 'normpath', 'os', 'pardir', 'pathsep', 'realpath', 'relpath', 'samefile', 'sameopenfile', 'samestat', 'sep', 'split', 'splitdrive', 'splitext', 'stat', 'supports_unicode_filenames', 'sys']\n"
     ]
    }
   ],
   "source": [
    "# more useful methos of os.path method\n",
    "print(dir(os.path))"
   ]
  },
  {
   "cell_type": "code",
   "execution_count": null,
   "metadata": {},
   "outputs": [],
   "source": []
  }
 ],
 "metadata": {
  "kernelspec": {
   "display_name": "Python 3",
   "language": "python",
   "name": "python3"
  },
  "language_info": {
   "codemirror_mode": {
    "name": "ipython",
    "version": 3
   },
   "file_extension": ".py",
   "mimetype": "text/x-python",
   "name": "python",
   "nbconvert_exporter": "python",
   "pygments_lexer": "ipython3",
   "version": "3.7.7"
  }
 },
 "nbformat": 4,
 "nbformat_minor": 4
}
