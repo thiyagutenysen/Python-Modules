{
 "cells": [
  {
   "cell_type": "code",
   "execution_count": 1,
   "metadata": {},
   "outputs": [],
   "source": [
    "import random"
   ]
  },
  {
   "cell_type": "code",
   "execution_count": 3,
   "metadata": {},
   "outputs": [
    {
     "name": "stdout",
     "output_type": "stream",
     "text": [
      "0.6463180054006193\n"
     ]
    }
   ],
   "source": [
    "# generate a random number between 0-1 where 0 is inclusive and 1 is not inclusive\n",
    "value = random.random()\n",
    "print(value)"
   ]
  },
  {
   "cell_type": "code",
   "execution_count": 11,
   "metadata": {},
   "outputs": [
    {
     "name": "stdout",
     "output_type": "stream",
     "text": [
      "5.982251132563585\n"
     ]
    }
   ],
   "source": [
    "# get a random floating point value between a range\n",
    "value = random.uniform(1, 10) # both start and end value is also included\n",
    "print(value)"
   ]
  },
  {
   "cell_type": "code",
   "execution_count": 12,
   "metadata": {},
   "outputs": [
    {
     "name": "stdout",
     "output_type": "stream",
     "text": [
      "2\n"
     ]
    }
   ],
   "source": [
    "# get an integer random number between a range\n",
    "value = random.randint(1, 10) # both start and end value is also included\n",
    "print(value)"
   ]
  },
  {
   "cell_type": "code",
   "execution_count": 45,
   "metadata": {},
   "outputs": [
    {
     "name": "stdout",
     "output_type": "stream",
     "text": [
      "vanilla\n"
     ]
    }
   ],
   "source": [
    "# pick a random value from list of values\n",
    "flavour = ['chocolate', 'vanilla', 'strawberry', 'pistachio', 'butterscotch', 'mango', 'blackcurrent']\n",
    "value = random.choice(flavour)\n",
    "print(value)"
   ]
  },
  {
   "cell_type": "code",
   "execution_count": 46,
   "metadata": {},
   "outputs": [
    {
     "name": "stdout",
     "output_type": "stream",
     "text": [
      "['red', 'red', 'black', 'blue', 'black', 'black', 'red', 'black', 'red', 'blue']\n"
     ]
    }
   ],
   "source": [
    "# event is to pick a color at random\n",
    "# this event happens 10 times\n",
    "colors = ['red', 'black', 'blue']\n",
    "results = random.choices(colors, k=10) # 2args, list,number of times the event happens\n",
    "# here all the colors are equally likely to get picked\n",
    "print(results)"
   ]
  },
  {
   "cell_type": "code",
   "execution_count": 49,
   "metadata": {},
   "outputs": [
    {
     "name": "stdout",
     "output_type": "stream",
     "text": [
      "['black', 'red', 'black', 'red', 'black', 'black', 'red', 'red', 'black', 'red']\n"
     ]
    }
   ],
   "source": [
    "# we can change the likelihood of picking by giving them weights that denote favour of picking\n",
    "colors = ['red', 'black', 'green']\n",
    "results = random.choices(colors, weights=[18,18,2], k=10)\n",
    "print(results)"
   ]
  },
  {
   "cell_type": "code",
   "execution_count": 50,
   "metadata": {},
   "outputs": [
    {
     "name": "stdout",
     "output_type": "stream",
     "text": [
      "[11, 50, 29, 6, 37, 31, 20, 35, 28, 7, 33, 8, 39, 21, 48, 23, 44, 47, 1, 42, 27, 16, 4, 10, 18, 32, 34, 2, 52, 26, 41, 24, 13, 12, 15, 19, 43, 45, 30, 51, 3, 5, 49, 22, 36, 38, 25, 40, 14, 17, 9, 46]\n"
     ]
    }
   ],
   "source": [
    "# shuffle the list\n",
    "cards = list(range(1,53))\n",
    "random.shuffle(cards)\n",
    "print(cards)"
   ]
  },
  {
   "cell_type": "code",
   "execution_count": 51,
   "metadata": {},
   "outputs": [
    {
     "name": "stdout",
     "output_type": "stream",
     "text": [
      "[5, 52, 28, 44, 34]\n"
     ]
    }
   ],
   "source": [
    "# grab 5 cards from the deck\n",
    "# the catch is, we need to pick 5 unique cards\n",
    "# we will use sample method\n",
    "hand = random.sample(cards, k=5)\n",
    "print(hand)"
   ]
  },
  {
   "cell_type": "code",
   "execution_count": null,
   "metadata": {},
   "outputs": [],
   "source": []
  }
 ],
 "metadata": {
  "kernelspec": {
   "display_name": "Python 3",
   "language": "python",
   "name": "python3"
  },
  "language_info": {
   "codemirror_mode": {
    "name": "ipython",
    "version": 3
   },
   "file_extension": ".py",
   "mimetype": "text/x-python",
   "name": "python",
   "nbconvert_exporter": "python",
   "pygments_lexer": "ipython3",
   "version": "3.7.7"
  }
 },
 "nbformat": 4,
 "nbformat_minor": 4
}
